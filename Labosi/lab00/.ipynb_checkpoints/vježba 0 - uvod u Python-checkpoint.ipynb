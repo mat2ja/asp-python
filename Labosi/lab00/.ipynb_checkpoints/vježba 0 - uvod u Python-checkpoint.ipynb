{
 "cells": [
  {
   "cell_type": "markdown",
   "metadata": {},
   "source": [
    "# Uvod u Python\n",
    "\n",
    "Ovaj uvod pokriva sljedeće teme vezane za programski jezik Python:\n",
    "1. Tipovi podataka i varijable\n",
    "2. Naredbe za kontrolu toka izvršavanja programa\n",
    "3. Funkcije\n",
    "4. Klase i objekti\n",
    "\n",
    "\n",
    "## 1. Tipovi podataka i varijable\n",
    "Python ima nekoliko ugrađenih tipova podataka koje ćemo upotrebljavati na ovom predmetu:\n",
    "- int - cjelobrojne vrijednosti\n",
    "- float - realni brojevi\n",
    "- bool - logičke vrijednosti\n",
    "- str - string, to jest tekstualne vrijednosti\n",
    "- list - dinamički nizovi (nizovi koji se proširuju po potrebi)\n",
    "- tuple - isto kao lista, ali nepromjenjivo\n",
    "- dict - asocijativni niz\n",
    "- set - skup\n",
    "\n",
    "**Napomena: U Pythonu ne postoji tip za znak, kao char, jer je kod njega to string duljine 1.**\n",
    "\n",
    "Svaka varijabla u Pythonu sadrži adresu na kojoj se nalazi vrijednost, to jest objekt koji joj je pridružen. Varijable u Pythonu nemaju oznaku tipa; one su samo ime za dotični objekt. U sljedećem primjeru varijabli *x* pridružujemo vrijednost 5:"
   ]
  },
  {
   "cell_type": "code",
   "execution_count": null,
   "metadata": {},
   "outputs": [],
   "source": [
    "x = 5"
   ]
  },
  {
   "cell_type": "markdown",
   "metadata": {},
   "source": [
    "Varijabla *x* sada sadrži adresu objekta 5. Tu adresu možemo dobiti funkcijom *id*:"
   ]
  },
  {
   "cell_type": "code",
   "execution_count": null,
   "metadata": {},
   "outputs": [],
   "source": [
    "id(x)"
   ]
  },
  {
   "cell_type": "markdown",
   "metadata": {},
   "source": [
    "... ili heksadecimalno upotrebom funkcije *hex*:"
   ]
  },
  {
   "cell_type": "code",
   "execution_count": null,
   "metadata": {},
   "outputs": [],
   "source": [
    "hex(id(x))"
   ]
  },
  {
   "cell_type": "markdown",
   "metadata": {},
   "source": [
    "* Iako varijabla *x* sadrži adresu objekta u memoriji, u ovom slučaju broj 5, vrijednost na toj adresi nije moguće promijeniti (kao što se može u C/C++ dereferenciranjem). Drugim riječima, na adresu na kojoj se nalazi 5 nije moguće upisati neku drugu vrijednost.\n",
    "* Ako želimo promijeniti vrijednost varijable *x* onda joj pridružimo novu vrijednost, nakon čega će ona sadržavati novu adresu, kako se vidi u primjeru ispod."
   ]
  },
  {
   "cell_type": "code",
   "execution_count": null,
   "metadata": {},
   "outputs": [],
   "source": [
    "x = 'abc'"
   ]
  },
  {
   "cell_type": "code",
   "execution_count": null,
   "metadata": {},
   "outputs": [],
   "source": [
    "hex(id(x))"
   ]
  },
  {
   "cell_type": "markdown",
   "metadata": {},
   "source": [
    "Ovdje smo varijabli _x_ pridružili novu vrijednost i to drugačijeg tipa (string) od prethodne. Kao što je prethodno rečeno, u Pythonu varijablama samo imenujemo objekte (vrijednosti), ali ih ne možemo ograničiti na određeni tip objekta. Tip varijable možemo dobiti funkcijom *type*:"
   ]
  },
  {
   "cell_type": "code",
   "execution_count": null,
   "metadata": {},
   "outputs": [],
   "source": [
    "type(x)"
   ]
  },
  {
   "cell_type": "code",
   "execution_count": null,
   "metadata": {},
   "outputs": [],
   "source": [
    "type(3.14)"
   ]
  },
  {
   "cell_type": "code",
   "execution_count": null,
   "metadata": {},
   "outputs": [],
   "source": [
    "type(0)"
   ]
  },
  {
   "cell_type": "markdown",
   "metadata": {},
   "source": [
    "Iako je Python dinamički programski jezik u kojem varijable nemaju oznaku tipa, on se \"pridržava\" nekih pravila o tipovima podataka (kaže se da je Python \"čvrsto tipiziran\" jezik). U sljedećem primjeru pokušavamo \"zbrojiti\" string sa brojem:"
   ]
  },
  {
   "cell_type": "code",
   "execution_count": null,
   "metadata": {
    "scrolled": true
   },
   "outputs": [],
   "source": [
    "'abc' + 3.14"
   ]
  },
  {
   "cell_type": "markdown",
   "metadata": {},
   "source": [
    "Kao i u statičkim jezicima kao što su C/C++, Java, C#, Python ne dozvoljava operaciju \"+\" nad nekompatibilnim tipovima podataka. Razlika u odnosu na statičke jezike je u tome što Python javi grešku tokom izvršavanja programa, dok je, recimo Java, javi tokom prevođenja! Ovo je jedna od temeljnih razlika između statičkih i dinamičkih jezika. U gornjoj grešci Python kaže da je umjesto broja 3.14 očekivao neki string.\n",
    "\n",
    "### Vrijednost None i operatori\n",
    "Ako svaka varijabla sadrži adresu nekog objekta, kako možemo definirati varijablu koja ne sadrži neku određenu adresu? Kao što u Javi i C# postoji vrijednost *null* ili u C++ *nullptr*, tako u Pythonu postoji vrijednost *None*:"
   ]
  },
  {
   "cell_type": "code",
   "execution_count": null,
   "metadata": {},
   "outputs": [],
   "source": [
    "p = None"
   ]
  },
  {
   "cell_type": "code",
   "execution_count": null,
   "metadata": {},
   "outputs": [],
   "source": [
    "type(p)"
   ]
  },
  {
   "cell_type": "markdown",
   "metadata": {},
   "source": [
    "Vidimo da je vrijednost *None* tipa *NoneType*.\n",
    "\n",
    "#### Operator *is* i neki drugi\n",
    "Za provjeru da li neka varijabla sadrži vrijednost *None* upotrebljava se operator *is* koji vraća logičku vrijednost: "
   ]
  },
  {
   "cell_type": "code",
   "execution_count": null,
   "metadata": {},
   "outputs": [],
   "source": [
    "p is None"
   ]
  },
  {
   "cell_type": "code",
   "execution_count": null,
   "metadata": {},
   "outputs": [],
   "source": [
    "x is None  # x sadrži string"
   ]
  },
  {
   "cell_type": "markdown",
   "metadata": {},
   "source": [
    "Ono što počine znakom \"#\" označava komentar koji se proteže do kraja reda.\n",
    "\n",
    "Binarnim operatorima \"==\" (jednakost) i \"!=\" (nejednakost) uspoređujemo dvije vrijednosti (ne adrese):"
   ]
  },
  {
   "cell_type": "code",
   "execution_count": null,
   "metadata": {},
   "outputs": [],
   "source": [
    "x == 'abc'"
   ]
  },
  {
   "cell_type": "code",
   "execution_count": null,
   "metadata": {},
   "outputs": [],
   "source": [
    "x != 'abc'"
   ]
  },
  {
   "cell_type": "code",
   "execution_count": null,
   "metadata": {},
   "outputs": [],
   "source": [
    "x == 'neki drugi string'"
   ]
  },
  {
   "cell_type": "code",
   "execution_count": null,
   "metadata": {},
   "outputs": [],
   "source": [
    "x == 2.81"
   ]
  },
  {
   "cell_type": "markdown",
   "metadata": {},
   "source": [
    "U posljednjem primjeru gore, iako *x* sadrži vrijednost tipa *str*, varijablu *x* možemo usporediti i s vrijednošću drugačijeg tipa, kao što je *float*, jer ako su tipovi različiti vrijednosti ne mogu biti jednake.\n",
    "\n",
    "Logičkim operatorima *and*, *or* i *not* možemo definirati logičke izraze:"
   ]
  },
  {
   "cell_type": "code",
   "execution_count": null,
   "metadata": {},
   "outputs": [],
   "source": [
    "x is not None and x == 'abc'"
   ]
  },
  {
   "cell_type": "code",
   "execution_count": null,
   "metadata": {},
   "outputs": [],
   "source": [
    "x is not None or x == 'abc'"
   ]
  },
  {
   "cell_type": "markdown",
   "metadata": {},
   "source": [
    "I relacijski operatori funkcioniraju kao kod drugih jezika:"
   ]
  },
  {
   "cell_type": "code",
   "execution_count": null,
   "metadata": {},
   "outputs": [],
   "source": [
    "x > 'a'  # leksička usporedba"
   ]
  },
  {
   "cell_type": "code",
   "execution_count": null,
   "metadata": {},
   "outputs": [],
   "source": [
    "x > 'abcd'"
   ]
  },
  {
   "cell_type": "markdown",
   "metadata": {},
   "source": [
    "### Kolekcije\n",
    "Python ima nekoliko vrsta kolekcija: stringovi, liste, ntorke, mape i skupove. \n",
    "\n",
    "#### Stringovi\n",
    "String je, kao i u drugim jezicima, niz znakova. U Pythonu string se može pisati s jednostrukim ili dvostrukim navodnicima:"
   ]
  },
  {
   "cell_type": "code",
   "execution_count": null,
   "metadata": {},
   "outputs": [],
   "source": [
    "'jedan string'"
   ]
  },
  {
   "cell_type": "code",
   "execution_count": null,
   "metadata": {},
   "outputs": [],
   "source": [
    "\"drugi string\""
   ]
  },
  {
   "cell_type": "markdown",
   "metadata": {},
   "source": [
    "Funkcija *len* vraća broj znakova u stringu:"
   ]
  },
  {
   "cell_type": "code",
   "execution_count": null,
   "metadata": {},
   "outputs": [],
   "source": [
    "len('abc')"
   ]
  },
  {
   "cell_type": "markdown",
   "metadata": {},
   "source": [
    "Funkcija *len* radi i s drugim nizovima podataka, kao što su liste i ntorke.<br>\n",
    "\n",
    "Operacijom segmentiranja \":\" mogu se izdvajati dijelovi stringa:"
   ]
  },
  {
   "cell_type": "code",
   "execution_count": null,
   "metadata": {},
   "outputs": [],
   "source": [
    "s = 'ovo je tekst'\n",
    "s[4:6]  # svi znakovi između indeksa 4 i 6, ne uključujući znak na indeksu 6 (indeksi počinju od 0)"
   ]
  },
  {
   "cell_type": "code",
   "execution_count": null,
   "metadata": {},
   "outputs": [],
   "source": [
    "s[7:]  # sve od indeksa 7 do kraja"
   ]
  },
  {
   "cell_type": "code",
   "execution_count": null,
   "metadata": {},
   "outputs": [],
   "source": [
    "s[:6]  # sve od početka do znaka na indeksu 6 - 1"
   ]
  },
  {
   "cell_type": "code",
   "execution_count": null,
   "metadata": {},
   "outputs": [],
   "source": [
    "s[-1]  # prvi znak zdesna"
   ]
  },
  {
   "cell_type": "code",
   "execution_count": null,
   "metadata": {},
   "outputs": [],
   "source": [
    "s[-5:]  # sve od petog indeksa zdesna do kraja (u ovom slučaju se broji od -1 zdesna)"
   ]
  },
  {
   "cell_type": "markdown",
   "metadata": {},
   "source": [
    "#### Liste\n",
    "Osnovne karakteristike lista su sljedeće:\n",
    "- Lista je uređeni niz elemenata.\n",
    "- Liste su dinamički nizovi, što znači da je indeksiranje efikasno (O(1)), ali umetanje i uklanjanje elemenata nije (O(n)).\n",
    "- Liste su heterogene (to jest, mogu sadržavati elemente različitih tipova, uključujući i druge liste).\n",
    "- Liste su promjenjive."
   ]
  },
  {
   "cell_type": "code",
   "execution_count": null,
   "metadata": {},
   "outputs": [],
   "source": [
    "t = ['xyz', 2.81, 10 / 2, [], [1, 2], None]"
   ]
  },
  {
   "cell_type": "code",
   "execution_count": null,
   "metadata": {},
   "outputs": [],
   "source": [
    "t[0]  # prvi element"
   ]
  },
  {
   "cell_type": "code",
   "execution_count": null,
   "metadata": {},
   "outputs": [],
   "source": [
    "len(t)  # broj elemenata u listi"
   ]
  },
  {
   "cell_type": "code",
   "execution_count": null,
   "metadata": {},
   "outputs": [],
   "source": [
    "len('abc')"
   ]
  },
  {
   "cell_type": "code",
   "execution_count": null,
   "metadata": {},
   "outputs": [],
   "source": [
    "t[1:4]  # svi elementi od indeksa 1 do 3 (element na indeksu 4 NIJE uključen)"
   ]
  },
  {
   "cell_type": "code",
   "execution_count": null,
   "metadata": {},
   "outputs": [],
   "source": [
    "t[:4]  # elementi na indeksima 0, 1, 2 i 3"
   ]
  },
  {
   "cell_type": "code",
   "execution_count": null,
   "metadata": {},
   "outputs": [],
   "source": [
    "t[2:]  # svi elementi od indeksa 2 do kraja"
   ]
  },
  {
   "cell_type": "markdown",
   "metadata": {},
   "source": [
    "Element na nekom indeksu liste možemo promijeniti pridruživanjem:"
   ]
  },
  {
   "cell_type": "code",
   "execution_count": null,
   "metadata": {},
   "outputs": [],
   "source": [
    "t[1] = 'abc'\n",
    "t"
   ]
  },
  {
   "cell_type": "markdown",
   "metadata": {},
   "source": [
    "Operacija \":\" zove se operacija segmentiranja. Ova operacija radi jednako s listama, ntorkama i stringovima.\n",
    "\n",
    "Liste se mogu spajati operatorom \"+\":"
   ]
  },
  {
   "cell_type": "code",
   "execution_count": null,
   "metadata": {},
   "outputs": [],
   "source": [
    "t1 = ['a', 1, 5.22]\n",
    "\n",
    "r = t1 + ['x', 'y']  # nova lista dobivena spajanjem lista t1 i ['x', 'y']\n",
    "r"
   ]
  },
  {
   "cell_type": "markdown",
   "metadata": {},
   "source": [
    "U prethodnom primjeru varijabli *r* pridružena je nova lista dobivena spajanjem lista *t1* i ['x', 'y'], ali lista *t1* NIJE promijenjena.\n",
    "\n",
    "Listu možemo proširiti upotrebom funkcije *append* ili operatorom \"+=\":"
   ]
  },
  {
   "cell_type": "code",
   "execution_count": null,
   "metadata": {},
   "outputs": [],
   "source": [
    "t1.append(99)\n",
    "t1"
   ]
  },
  {
   "cell_type": "code",
   "execution_count": null,
   "metadata": {},
   "outputs": [],
   "source": [
    "t1 += ['abc', ['def', 5]]\n",
    "t1"
   ]
  },
  {
   "cell_type": "markdown",
   "metadata": {},
   "source": [
    "Operatorom *in* možemo provjeriti nalazi li se neki element u zadanoj listi:"
   ]
  },
  {
   "cell_type": "code",
   "execution_count": null,
   "metadata": {},
   "outputs": [],
   "source": [
    "'a' in t1"
   ]
  },
  {
   "cell_type": "markdown",
   "metadata": {},
   "source": [
    "Metodom *index* možemo dobiti indeks na kojem se traženi element nalazi:"
   ]
  },
  {
   "cell_type": "code",
   "execution_count": null,
   "metadata": {},
   "outputs": [],
   "source": [
    "t1.index('a')"
   ]
  },
  {
   "cell_type": "code",
   "execution_count": null,
   "metadata": {},
   "outputs": [],
   "source": [
    "t1.index('ulica')  # ovaj element ne postoji, pa je signalizirana iznimka"
   ]
  },
  {
   "cell_type": "markdown",
   "metadata": {},
   "source": [
    "#### Ntorke\n",
    "- Ntorka je isto što i lista, ali je nepromjenjiva."
   ]
  },
  {
   "cell_type": "code",
   "execution_count": null,
   "metadata": {},
   "outputs": [],
   "source": [
    "k = (1, 2, 3)"
   ]
  },
  {
   "cell_type": "code",
   "execution_count": null,
   "metadata": {},
   "outputs": [],
   "source": [
    "k[0]"
   ]
  },
  {
   "cell_type": "code",
   "execution_count": null,
   "metadata": {},
   "outputs": [],
   "source": [
    "(2 * 9,)  # ntorka s jednim elementom"
   ]
  },
  {
   "cell_type": "code",
   "execution_count": null,
   "metadata": {},
   "outputs": [],
   "source": [
    "(2 * 9)  # izraz u zagradi"
   ]
  },
  {
   "cell_type": "markdown",
   "metadata": {},
   "source": [
    "Ntorke su __nepromjenjive__:"
   ]
  },
  {
   "cell_type": "code",
   "execution_count": null,
   "metadata": {},
   "outputs": [],
   "source": [
    "k[1] = 99"
   ]
  },
  {
   "cell_type": "markdown",
   "metadata": {},
   "source": [
    "Kao i u primjeru 19 ovdje se nepromjenjivost ntorke očituje u toku izvršavanja programa.\n",
    "\n",
    "#### Asocijativni nizovi (mape ili riječnici)\n",
    "U Pythonu mapa se najčešće definira upotrebom sintakse {ključ : vrijednost, ...}. Ključ mape može biti bilo koji objekt za koji je definirana metoda *hash*, što uključuje sve nepromjenjive objekte (znači, ne liste). U sljedećeme primjeru definirana je mapa koja sadrži dva telefonska broja i imena vlasnika:"
   ]
  },
  {
   "cell_type": "code",
   "execution_count": null,
   "metadata": {},
   "outputs": [],
   "source": [
    "mapa = {}  # prazna mapa\n",
    "tel = {'099-123-4567': 'Pero Perić', '095-987-6543': 'Mara Marić'}"
   ]
  },
  {
   "cell_type": "markdown",
   "metadata": {},
   "source": [
    "Sada da bi došli do vrijednosti pridružene nekom ključu koristimo istu sintaksu kao i kod indeksiranja nizova (lista):"
   ]
  },
  {
   "cell_type": "code",
   "execution_count": null,
   "metadata": {},
   "outputs": [],
   "source": [
    "tel['095-987-6543']"
   ]
  },
  {
   "cell_type": "markdown",
   "metadata": {},
   "source": [
    "Vrijednost pridruženu ključu možemo promijeniti pridruživanjem, kao i kod lista:"
   ]
  },
  {
   "cell_type": "code",
   "execution_count": null,
   "metadata": {},
   "outputs": [],
   "source": [
    "tel['095-987-6543'] = 'Ivo Ivić'"
   ]
  },
  {
   "cell_type": "code",
   "execution_count": null,
   "metadata": {},
   "outputs": [],
   "source": [
    "tel['095-987-6543']"
   ]
  },
  {
   "cell_type": "markdown",
   "metadata": {},
   "source": [
    "Provjera pripadnosti ključa zadanoj mapi obavlja se operatorom *in*:"
   ]
  },
  {
   "cell_type": "code",
   "execution_count": null,
   "metadata": {},
   "outputs": [],
   "source": [
    "'095-987-6543' in tel"
   ]
  },
  {
   "cell_type": "markdown",
   "metadata": {},
   "source": [
    "Popis svih ključeva mape možemo dobiti metodom *keys*, a popis svih vrijednosti metodom *values*:"
   ]
  },
  {
   "cell_type": "code",
   "execution_count": null,
   "metadata": {},
   "outputs": [],
   "source": [
    "tel.keys()"
   ]
  },
  {
   "cell_type": "code",
   "execution_count": null,
   "metadata": {},
   "outputs": [],
   "source": [
    "tel.values()"
   ]
  },
  {
   "cell_type": "markdown",
   "metadata": {},
   "source": [
    "Na ovaj način možemo provjeriti i da li se neka vrijednost nalazi u mapi:"
   ]
  },
  {
   "cell_type": "code",
   "execution_count": null,
   "metadata": {},
   "outputs": [],
   "source": [
    "'Mara Marić' in tel.values()"
   ]
  },
  {
   "cell_type": "markdown",
   "metadata": {},
   "source": [
    "Mape su vrlo efikasne jer se elementima pristupa preko hash-koda, tako da je vremenska složenost konstantna, O(1), (t.j. ne ovisi o broju elemenata u mapi) pod uvjetom da je hash-funkcija dobro odabrana.\n",
    "\n",
    "#### Skupovi\n",
    "Skup u Pythonu je neuređena kolekcija elemenata s efikasnom operacijom provjere pripadnosti elementa skupu. Skupovi mogu sadržavati samo nepromjenjive elemente, što znači da lista ne može biti element skupa, ali ntorka može. Skup elemenata piše se kao {a, b, ...}:"
   ]
  },
  {
   "cell_type": "code",
   "execution_count": null,
   "metadata": {},
   "outputs": [],
   "source": [
    "{'a', 5, (), None}  # skup sa četiri elementa"
   ]
  },
  {
   "cell_type": "markdown",
   "metadata": {},
   "source": [
    "Provjera pripadnosti elementa skupu radi se logičkim operatorom *in*:"
   ]
  },
  {
   "cell_type": "code",
   "execution_count": null,
   "metadata": {},
   "outputs": [],
   "source": [
    "skup = {'a', 'b', 'c', 'd', 'e'}\n",
    "\n",
    "'d' in skup"
   ]
  },
  {
   "cell_type": "code",
   "execution_count": null,
   "metadata": {},
   "outputs": [],
   "source": [
    "'f' in skup"
   ]
  },
  {
   "cell_type": "markdown",
   "metadata": {},
   "source": [
    "Funkcija *len* radi i sa skupovima:"
   ]
  },
  {
   "cell_type": "code",
   "execution_count": null,
   "metadata": {},
   "outputs": [],
   "source": [
    "len(skup)"
   ]
  },
  {
   "cell_type": "markdown",
   "metadata": {},
   "source": [
    "Skupovi podržavaju uobičajene operacije nad skupovima:"
   ]
  },
  {
   "cell_type": "code",
   "execution_count": null,
   "metadata": {},
   "outputs": [],
   "source": [
    "s1 = {1, 2, 3}\n",
    "s2 = {3, 4, 5}\n",
    "\n",
    "s1 | s2  # unija"
   ]
  },
  {
   "cell_type": "code",
   "execution_count": null,
   "metadata": {},
   "outputs": [],
   "source": [
    "s1 & s2  # presjek"
   ]
  },
  {
   "cell_type": "code",
   "execution_count": null,
   "metadata": {},
   "outputs": [],
   "source": [
    "s1 - s2  # razlika"
   ]
  },
  {
   "cell_type": "code",
   "execution_count": null,
   "metadata": {},
   "outputs": [],
   "source": [
    "s1 <= s2  # podskup"
   ]
  },
  {
   "cell_type": "code",
   "execution_count": null,
   "metadata": {},
   "outputs": [],
   "source": [
    "s1 ^ s2  # simetrična razlika - elementi koji su u jednom ili drugom skupu, ali ne u oba"
   ]
  },
  {
   "cell_type": "markdown",
   "metadata": {},
   "source": [
    "Prazan skup se definira funkcijom *set()*, ne sa {} jer to je prazna mapa."
   ]
  },
  {
   "cell_type": "code",
   "execution_count": null,
   "metadata": {},
   "outputs": [],
   "source": [
    "set()"
   ]
  },
  {
   "cell_type": "markdown",
   "metadata": {},
   "source": [
    "Funkcija *set* može se koristiti za formiranje skupa elementima liste ili stringa:"
   ]
  },
  {
   "cell_type": "code",
   "execution_count": null,
   "metadata": {},
   "outputs": [],
   "source": [
    "set(['a', 'b', 'c', 'a', 'a', 'c', 'c', 'c'])"
   ]
  },
  {
   "cell_type": "code",
   "execution_count": null,
   "metadata": {},
   "outputs": [],
   "source": [
    "set('algoritmi')"
   ]
  },
  {
   "cell_type": "markdown",
   "metadata": {},
   "source": [
    "Ovdje treba primjetiti dvije stvari:\n",
    "1. Skupovi ne mogu sadržavati duplikate, pa su oni automatski eliminirani ako postoje u izvornom popisu elemenata.\n",
    "2. Poredak elemenata u skupu je neodređen."
   ]
  },
  {
   "cell_type": "markdown",
   "metadata": {},
   "source": [
    "## 2. Naredbe za kontrolu toka izvršavanja programa\n",
    "Za razliku od nekih drugih popularnih programskih jezika, Python nema blokove nego se niz naredbi koji sačinjava jedan blok uvlači upotrebom razmaka ili tabulatora. U ovom dijelu prikazane su osnove naredbi *if*, *for* i *while*.\n",
    "\n",
    "Primjer naredbe *if*:"
   ]
  },
  {
   "cell_type": "code",
   "execution_count": null,
   "metadata": {},
   "outputs": [],
   "source": [
    "if x > y:\n",
    "    x += y\n",
    "    print(x)\n",
    "else:\n",
    "    x -= 1\n",
    "    y = 0"
   ]
  },
  {
   "cell_type": "markdown",
   "metadata": {},
   "source": [
    "U gornjem primjeru niz naredbi\n",
    "\n",
    "    x += y\n",
    "    print(x)\n",
    "\n",
    "izvršit će se ako je x > y, u suprotnom izvršit će se niz naredbi\n",
    "\n",
    "    x -= 1\n",
    "    y = 0\n",
    "    \n",
    "Gornja *if*-naredba izgledala bi odprilike ovako u C-u:\n",
    "\n",
    "    if (x > y) \n",
    "    {\n",
    "        x += y;\n",
    "        print(x);\n",
    "    }\n",
    "    else\n",
    "    {\n",
    "        x -= 1;\n",
    "        y = 0;\n",
    "    }\n",
    "\n",
    "Semantika *if*-naredbe u Pythonu je ista kao i u drugim jezicima.\n",
    "\n",
    "Za ponavljanje Python ima dvije vrste petlji: *for* i *while*. Primjer *for*-petlje:"
   ]
  },
  {
   "cell_type": "code",
   "execution_count": null,
   "metadata": {},
   "outputs": [],
   "source": [
    "for i in range(0, 5):\n",
    "    print(i * i)"
   ]
  },
  {
   "cell_type": "markdown",
   "metadata": {},
   "source": [
    "Funkcija *range* je iterator koji generira vrijednosti za kontrolnu varijablu, u ovom primjeru *i*. Gornja vrijednost ide do jedan manje od onoga šta je specificirano, tako da se u gornjem primjeru za *i* generiraju vrijednosti 0, 1, 2, 3 i 4. Ako se ovakva petlja izvršava počevši od 0, onda se 0 može izostaviti:"
   ]
  },
  {
   "cell_type": "code",
   "execution_count": null,
   "metadata": {},
   "outputs": [],
   "source": [
    "for i in range(5):\n",
    "    print(i * i)"
   ]
  },
  {
   "cell_type": "markdown",
   "metadata": {},
   "source": [
    "Još jedna petlja u Pythonu je *while*-petlja:"
   ]
  },
  {
   "cell_type": "code",
   "execution_count": null,
   "metadata": {},
   "outputs": [],
   "source": [
    "i = -5\n",
    "while i < 0:\n",
    "    print('i =', i)\n",
    "    i += 1  # povećaj i za 1"
   ]
  },
  {
   "cell_type": "markdown",
   "metadata": {},
   "source": [
    "*while*-petlja u Pythonu radi isto kao i kod drugih jezika.\n",
    "\n",
    "## 3. Funkcije\n",
    "Funkcije se u Pythonu definiraju naredbom *def*. Opći oblik definicije funkcije je\n",
    "\n",
    "    def <ime funckije> ( <popis parametara> ):\n",
    "        <tijelo funkcije>\n",
    "        \n",
    "U sljedećem primjeru definirana je funkcija koja vraća kvadrat broja zadanog u parametru:"
   ]
  },
  {
   "cell_type": "code",
   "execution_count": null,
   "metadata": {},
   "outputs": [],
   "source": [
    "def kvadrat(n):\n",
    "    return n * n"
   ]
  },
  {
   "cell_type": "code",
   "execution_count": null,
   "metadata": {},
   "outputs": [],
   "source": [
    "kvadrat(9)  # poziv funkcije 'kvadrat'"
   ]
  },
  {
   "cell_type": "markdown",
   "metadata": {},
   "source": [
    "U sljedećem primjeru definirana je funkcija koja vraća apsolutnu vrijednost broja:"
   ]
  },
  {
   "cell_type": "code",
   "execution_count": null,
   "metadata": {},
   "outputs": [],
   "source": [
    "def apsolutna_vrijednost(n):\n",
    "    if n < 0:\n",
    "        return -n\n",
    "    else:\n",
    "        return n"
   ]
  },
  {
   "cell_type": "code",
   "execution_count": null,
   "metadata": {},
   "outputs": [],
   "source": [
    "apsolutna_vrijednost(-6)"
   ]
  },
  {
   "cell_type": "code",
   "execution_count": null,
   "metadata": {},
   "outputs": [],
   "source": [
    "apsolutna_vrijednost(34)"
   ]
  },
  {
   "cell_type": "markdown",
   "metadata": {},
   "source": [
    "Ako funkcija nema eksplicitno definiranu povratnu vrijednost onda ona vraća *None*:"
   ]
  },
  {
   "cell_type": "code",
   "execution_count": null,
   "metadata": {},
   "outputs": [],
   "source": [
    "def f(n):\n",
    "    if n > 0:\n",
    "        return n + 1"
   ]
  },
  {
   "cell_type": "code",
   "execution_count": null,
   "metadata": {},
   "outputs": [],
   "source": [
    "f(5)"
   ]
  },
  {
   "cell_type": "code",
   "execution_count": null,
   "metadata": {},
   "outputs": [],
   "source": [
    "f(-2)"
   ]
  },
  {
   "cell_type": "markdown",
   "metadata": {},
   "source": [
    "Funkcija *f* je za poziv *f(-2)* vratila *None*, iako Jupyter ne ispisuje tu vrijednost kada je vraćena iz funkcije.\n",
    "\n",
    "Za razliku od jezika kao što je C++, u Pythonu nije moguće promijeniti vrijednost argumenta poziva funkcije pridruživanjem nove vrijednosti parametru za taj argument. U sljedećem primjeru, iako u funkciji *test* parametru *tekst* pridružujemo novu vrijednost, to pridruživanje ne utjeće na varijablu *s* koja je argument poziva funkcije *test*:"
   ]
  },
  {
   "cell_type": "code",
   "execution_count": null,
   "metadata": {},
   "outputs": [],
   "source": [
    "def test(tekst):\n",
    "    tekst = 'abc'\n",
    "    \n",
    "s = 'abc'\n",
    "test(s)\n",
    "s  # 's' je i dalje 'abc'"
   ]
  },
  {
   "cell_type": "markdown",
   "metadata": {},
   "source": [
    "Ako želimo da funkcija vrati više od jedne vrijednosti možemo koristiti ntorke. U sljedećem primjeru funkcija *info* vraća kvadrat broja i njegovu apsolutnu vrijednost:"
   ]
  },
  {
   "cell_type": "code",
   "execution_count": null,
   "metadata": {},
   "outputs": [],
   "source": [
    "def info(n):\n",
    "    return kvadrat(n), apsolutna_vrijednost(n)\n",
    "\n",
    "info(9)"
   ]
  },
  {
   "cell_type": "markdown",
   "metadata": {},
   "source": [
    "Ovdje možemo primjetiti da nije neophodno stavljati zagrade oko elemenata ntorke jer Python će sam zaključiti da se radi o ntorki kada dođe do zareza koji odvaja njene elemente.\n",
    "\n",
    "\n",
    "## Klase\n",
    "U Pythonu definicija klase ima sljedeći oblik:\n",
    "\n",
    "    class <ime klase>:\n",
    "        <metode>\n",
    "\n",
    "Ako klasa nasljeđuje od druge klase onda je njen oblik\n",
    "\n",
    "    class <ime klase> (<bazna klasa 1>, <bazna klasa 2>, ...):\n",
    "        <metode>\n",
    "        \n",
    "(Python podržava višestruko nasljeđivanje)\n",
    "\n",
    "Za razliku od jezika C++, konstruktor klase u Pythonu nema naziv klase i piše se\n",
    "\n",
    "    def __init__(self, ...):\n",
    "        <tijelo konstruktora>\n",
    "        \n",
    "Sve metode koje počinju i završavaju sa __ (dvostruki \"underscore\") su \"specijalne\" metode, a tu spada i konstruktor. Python nema destruktore. Nadalje, prvi parametar (self) sadrži objekt (instancu) dotične klase. On ima ulogu kao *this* u C++u, ali se mora eksplicitno navesti kao prvi parametar svake metode (iako se ne mora obavezno zvati \"self\", međutim to je uobičajena praksa u Pythonu). \n",
    "\n",
    "U sljedećem primjeru definirana je klasa KompleksniBroj:"
   ]
  },
  {
   "cell_type": "code",
   "execution_count": null,
   "metadata": {},
   "outputs": [],
   "source": [
    "class KompleksniBroj:\n",
    "    def __init__(self, re, im):  # konstruktor s dva parametra (prvi, self, se podrazumijeva)\n",
    "        self.re = re  # sačuvaj re u polju re (self.re)\n",
    "        self.im = im  # sačuvaj im u polju im (self.im)"
   ]
  },
  {
   "cell_type": "code",
   "execution_count": null,
   "metadata": {},
   "outputs": [],
   "source": [
    "kb = KompleksniBroj(2, 3)  # 'kb' će sadržavati instancu klase KompleksniBroj"
   ]
  },
  {
   "cell_type": "markdown",
   "metadata": {},
   "source": [
    "U ovom primjeru treba primjetiti par stvari:\n",
    "* Polja (varijable klase) se ne definiraju unaprijed nego po potrebi i to tako da se eksplicitno navede 'self' kao instanca kojoj ta polja pripadaju. S obzirom da se konstruktor poziva nakon što je memorija za objekt već rezervirana, pridruživanja self.re = re i self.im = im dodati će polja 're' i 'im' tom objektu s pridruženim vrijednostima parametara 're' i 'im'.\n",
    "* Instanciranje klase sastoji se samo od poziva konstruktora klase, nema specifične naredbe kao što je 'new' u Javi.\n",
    "* Kod instanciranja klase KompleksniBroj dali smo samo dva parametra za konstruktor, za 're' i 'im', dok će parametar za 'self' automatski sadržavati instancu te klase.\n",
    "\n",
    "Ako sada želimo doći do vrijednosti za 're' i 'im' to radimo slično kao i u C++u:"
   ]
  },
  {
   "cell_type": "code",
   "execution_count": null,
   "metadata": {},
   "outputs": [],
   "source": [
    "kb.re"
   ]
  },
  {
   "cell_type": "code",
   "execution_count": null,
   "metadata": {},
   "outputs": [],
   "source": [
    "kb.im"
   ]
  },
  {
   "cell_type": "markdown",
   "metadata": {},
   "source": [
    "Sada u klasu KompleksniBroj možemo dodati funkciju *modul* koja računa modul kompleksnog broja:"
   ]
  },
  {
   "cell_type": "code",
   "execution_count": null,
   "metadata": {},
   "outputs": [],
   "source": [
    "import math\n",
    "\n",
    "class KompleksniBroj:\n",
    "    def __init__(self, re, im):  # konstruktor s dva parametra (prvi, self, se podrazumijeva)\n",
    "        self.re = re  # sačuvaj re u polju re (self.re)\n",
    "        self.im = im  # sačuvaj im u polju im (self.im)\n",
    "        \n",
    "    def modul(self):\n",
    "        return math.sqrt(self.re ** 2 + self.im ** 2)  # funkcija sqrt nalazi se u modulu math"
   ]
  },
  {
   "cell_type": "code",
   "execution_count": null,
   "metadata": {},
   "outputs": [],
   "source": [
    "kb = KompleksniBroj(1, 1)\n",
    "kb.modul()"
   ]
  },
  {
   "cell_type": "markdown",
   "metadata": {},
   "source": [
    "U gornjem primjeru vidimo dvije nove stvari:\n",
    "* Operator __**__ je potenciranje. Izraz *a ** b* daje *a<sup>b</sup>*.\n",
    "* S obzirom da se funkcija *sqrt* koja računa korijen broja nalazi u modulu *math* taj modul moramo učitati da bi mogli pozvati ovu funkciju. To radimo naredbom *import ime_modula*. Sada, da bi pozvali funkciju *sqrt* moramo navesti modul u kojem se ona nalazi."
   ]
  },
  {
   "cell_type": "markdown",
   "metadata": {},
   "source": [
    "# Zadaci\n",
    "\n",
    "### 1. \n",
    "Napišite funkciju _korijen_ koja radi prema sljedećem algoritmu za pronalaženje korijena broja:\n",
    "\n",
    "1.\tOdredi neku početnu vrijednost __a__, kao što je 1.\n",
    "2.\tNeka je x vrijednost za koju izračunavamo korijen. Ako su a<sup>2</sup> i x dovoljno blizu (vidi ispod), rezultat je __a__; inače idi na sljedeći korak.\n",
    "3.\tPostavi *a* na poboljšani rezultat u odnosu na prethodni, tj. na prosjek od __a__ i x/a, što je (a + x / a) / 2.\n",
    "4.\tIdi na korak 2.\n",
    "\n",
    "Neka je aproksimacija rezultata dovoljno blizu stvarnom rezultatu ako je razlika između a<sup>2</sup> i x manja od 0.001. Slijedi primjer ovog postupka na izračunavanju korijena broja 4.\n",
    "<br>\n",
    "\n",
    "\n",
    "|Vrijednosti varijable _a_|Prosjek|\n",
    "|-----------------------|-------|\n",
    "|1|(1 + 4 / 1) / 2 = 2.5|\n",
    "|2.5|(2.5 + 4 / 2.5) / 2 = 2.05|\n",
    "|2.05|(2.05 + 4 / 2.05) / 2 = 2.0006|\n",
    "|2.0006|(2.0006 + 4 / 2.0006) / 2 = 2.0000|\n",
    "|2.0000 ← rezultat||\n",
    "\n",
    "### 2.\n",
    "Funkciju _korijen_ iz zadatka 1 postavite u klasu _Matematika_ i demonstrirajte njenu upotrebu.\n",
    "\n",
    "### 3.\n",
    "Napišite funkciju __sortiraj__ koja sortira vrijednosti tako da svaki put nađe najmanju vrijednost u nizu.\n",
    "\n",
    "### 4.\n",
    "Upotrebom mape (dictionary) napišite funkciju __frekv__ koja vraća broj pojavljivanja svakog elementa liste:\n",
    "\n",
    "```python\n",
    "frekv([5, 2, 4, 4, 3, 1, 3, 8]) \n",
    "-> {5: 1, 2: 1, 4: 2, 3: 2, 8: 1, 1: 1}  # ovo treba biti rezultat gornjeg poziva funkcije frekv\n",
    "```\n",
    "\n",
    "### 5.\n",
    "Upotrebom skupova napišite funkciju koja vraća broj duplikata u listi (bez upotrebe petlje ili rekurzije):\n",
    "\n",
    "```python\n",
    "duplikati([5, 2, 5, 1, 1, 1, 2, 3])\n",
    "-> 4\n",
    "```\n"
   ]
  },
  {
   "cell_type": "code",
   "execution_count": 1,
   "metadata": {},
   "outputs": [
    {
     "name": "stdout",
     "output_type": "stream",
     "text": [
      "2.0000000929222947\n"
     ]
    }
   ],
   "source": [
    "#1\n",
    "\n",
    "def korijen(x):\n",
    "    a = 1\n",
    "    while abs(a**2 - x) > 0.001:\n",
    "        a = (a + x / a) / 2\n",
    "    return a\n",
    "\n",
    "print(korijen(4))"
   ]
  },
  {
   "cell_type": "code",
   "execution_count": 5,
   "metadata": {},
   "outputs": [
    {
     "name": "stdout",
     "output_type": "stream",
     "text": [
      "2.0000000929222947\n",
      "5.000012953039514\n",
      "32.2490311252122\n"
     ]
    }
   ],
   "source": [
    "#2\n",
    "\n",
    "class Matematika():\n",
    "    def __init__(self):\n",
    "        self.a = 1\n",
    "\n",
    "    def korijen(self, x):\n",
    "        while abs(self.a ** 2 - x) > 0.001:\n",
    "            self.a = (self.a + x / self.a) / 2\n",
    "        return self.a\n",
    "\n",
    "x = Matematika()\n",
    "print(x.korijen(4))\n",
    "print(x.korijen(25))\n",
    "print(x.korijen(1040))"
   ]
  },
  {
   "cell_type": "code",
   "execution_count": 12,
   "metadata": {},
   "outputs": [
    {
     "name": "stdout",
     "output_type": "stream",
     "text": [
      "5\n",
      "5\n"
     ]
    }
   ],
   "source": [
    "#3\n",
    "\n",
    "def sortiraj(niz):\n",
    "    return sorted(niz)[0]\n",
    "\n",
    "\n",
    "# bubble sort\n",
    "def sortiraj2(niz):\n",
    "    for i in range(len(niz) - 1):\n",
    "        for j in range(0, len(niz) - i - 1):\n",
    "            if niz[j] > niz[j + 1]:\n",
    "                niz[j], niz[j + 1] = niz[j + 1], niz[j]\n",
    "\n",
    "    return niz[0]\n",
    "\n",
    "print(sortiraj([243, 12, 5, 132, 45, 11, 29]))\n",
    "print(sortiraj2([243, 12, 5, 132, 45, 11, 29]))\n"
   ]
  },
  {
   "cell_type": "code",
   "execution_count": 13,
   "metadata": {},
   "outputs": [
    {
     "name": "stdout",
     "output_type": "stream",
     "text": [
      "{5: 1, 2: 1, 4: 2, 3: 2, 1: 1, 8: 1}\n"
     ]
    }
   ],
   "source": [
    "#4\n",
    "\n",
    "def frekv(lista):\n",
    "    mapa = {}\n",
    "    for elem in lista:\n",
    "        mapa[elem] = mapa[elem] + 1 if elem in mapa else 1\n",
    "    return mapa\n",
    "\n",
    "\n",
    "print(frekv([5, 2, 4, 4, 3, 1, 3, 8]))"
   ]
  },
  {
   "cell_type": "code",
   "execution_count": 10,
   "metadata": {},
   "outputs": [
    {
     "name": "stdout",
     "output_type": "stream",
     "text": [
      "4\n"
     ]
    }
   ],
   "source": [
    "#5\n",
    "\n",
    "def duplikati(lista):\n",
    "    set1 = set(lista)\n",
    "    return len(lista) - len(set1)\n",
    "\n",
    "\n",
    "print(duplikati([5, 2, 5, 1, 1, 1, 2, 3]))"
   ]
  }
 ],
 "metadata": {
  "kernelspec": {
   "display_name": "Python 3",
   "language": "python",
   "name": "python3"
  },
  "language_info": {
   "codemirror_mode": {
    "name": "ipython",
    "version": 3
   },
   "file_extension": ".py",
   "mimetype": "text/x-python",
   "name": "python",
   "nbconvert_exporter": "python",
   "pygments_lexer": "ipython3",
   "version": "3.8.3"
  },
  "toc": {
   "base_numbering": 1,
   "nav_menu": {},
   "number_sections": true,
   "sideBar": true,
   "skip_h1_title": false,
   "title_cell": "Table of Contents",
   "title_sidebar": "Contents",
   "toc_cell": false,
   "toc_position": {},
   "toc_section_display": true,
   "toc_window_display": false
  }
 },
 "nbformat": 4,
 "nbformat_minor": 2
}
