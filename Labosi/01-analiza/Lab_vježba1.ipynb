{
 "cells": [
  {
   "cell_type": "markdown",
   "metadata": {},
   "source": [
    "# Vježba 1 - Analiza učinkovitosti - Matija Osrečki\n",
    "\n",
    "**Sljedeći zadaci vezani su za problem sedam funkcija složenosti.**"
   ]
  },
  {
   "cell_type": "code",
   "execution_count": 24,
   "metadata": {},
   "outputs": [],
   "source": [
    "# napisana funkcija koja iscrtava grafove, \n",
    "# potrebno ju je pokrenuti kako bi se u ostalim dijelovima notebooka moglo crtati\n",
    "from matplotlib import pyplot\n",
    "import timeit\n",
    "from functools import partial\n",
    "\n",
    "\n",
    "def plot_fun(fn, nMin, nMax, nInc, nTests):\n",
    "    x = []\n",
    "    y = []\n",
    "    for i in range(nMin, nMax, nInc):\n",
    "        N = i\n",
    "        testNTimer = timeit.Timer(partial(fn, N))\n",
    "        t = testNTimer.timeit(number=nTests)\n",
    "        x.append(i)\n",
    "        y.append(t)\n",
    "\n",
    "    pyplot.plot(x, y, 'o', label=fn.__name__)\n",
    "    pyplot.legend(loc=\"upper left\")"
   ]
  },
  {
   "cell_type": "markdown",
   "metadata": {},
   "source": [
    "### Zadatak 1"
   ]
  },
  {
   "cell_type": "markdown",
   "metadata": {},
   "source": [
    "Prvo: O(1)\n",
    "\n",
    "Složenost vremena funkcije (ili skupova funkcija) smatra se O (1) ako ne sadrži petlju, rekurziju i poziv na bilo koju drugu nekonstantnu vremensku funkciju. Pogledajmo primjer na Zadatku 1. Vaš zadatak je da upišete neke izraze složenost O(1) i ispišete rezultat objasnite zašto je to O(1).\n"
   ]
  },
  {
   "cell_type": "code",
   "execution_count": 22,
   "metadata": {},
   "outputs": [
    {
     "name": "stdout",
     "output_type": "stream",
     "text": [
      "20 0.0\n",
      "20 0.0\n"
     ]
    },
    {
     "data": {
      "image/png": "[encoded data removed]",
      "text/plain": [
       "<Figure size 432x288 with 1 Axes>"
      ]
     },
     "metadata": {
      "needs_background": "light"
     },
     "output_type": "display_data"
    }
   ],
   "source": [
    "from time import time\n",
    "\n",
    "#  c  je konstanta, imamo i petlju\n",
    "def fun1(c):\n",
    "    c = 20\n",
    "    for j in range(c):\n",
    "        #  neki izrazi složenosti O(1))\n",
    "        var = c\n",
    "    return var\n",
    "\n",
    "# driver\n",
    "if __name__ == \"__main__\":\n",
    "    start = time()\n",
    "    print(fun1(999), time()-start)\n",
    "    start2 = time()\n",
    "    print(fun1(99999), time()-start)\n",
    "    plot_fun(fun1, 1, 100, 1, 10)"
   ]
  },
  {
   "cell_type": "code",
   "execution_count": 30,
   "metadata": {},
   "outputs": [
    {
     "name": "stdout",
     "output_type": "stream",
     "text": [
      "100\n",
      "20\n"
     ]
    }
   ],
   "source": [
    "from time import time\n",
    "\n",
    "#  c  je konstanta, imamo i petlju\n",
    "def fun1(c, n):\n",
    "    c = 20\n",
    "    for j in range(c):\n",
    "        #  neki izrazi složenosti O(1))\n",
    "        var = c\n",
    "    return var\n",
    "\n",
    "# driver\n",
    "if __name__ == \"__main__\":\n",
    "    n = input()\n",
    "    print(fun1(10000, int(n)))\n",
    "    \n",
    "c je konstanta\n"
   ]
  },
  {
   "cell_type": "markdown",
   "metadata": {},
   "source": [
    "Komentirati kratko rezultat i to upisati u polje koristeći Markdown."
   ]
  },
  {
   "cell_type": "markdown",
   "metadata": {},
   "source": [
    "**Vaš komentar:**\n",
    "Neovisno o ulazu n, varijabla koju metoda vraca je konstanta, ne ovisi o velicini ulaza n"
   ]
  },
  {
   "cell_type": "code",
   "execution_count": null,
   "metadata": {},
   "outputs": [],
   "source": []
  },
  {
   "cell_type": "markdown",
   "metadata": {},
   "source": [
    "### Zadatak 2"
   ]
  },
  {
   "cell_type": "markdown",
   "metadata": {},
   "source": [
    "Drugo: O(n)\n",
    "\n",
    "Imamo petlju koja se izvodi. Traži se dodavanja izraz složenosti O(1) za funkciju fun2(n) i ispis rezultata. Nadalje traži se napisati fun3(n) gdje petlja ide od n do 0 i ispis rezultata. Komentirati kratko rezultat i to upisati u polje koristeći Markdown.\n"
   ]
  },
  {
   "cell_type": "code",
   "execution_count": 28,
   "metadata": {},
   "outputs": [
    {
     "name": "stdout",
     "output_type": "stream",
     "text": [
      "199\n",
      "5\n",
      "199\n",
      "6\n"
     ]
    },
    {
     "data": {
      "image/png": "[encoded data removed]",
      "text/plain": [
       "<Figure size 432x288 with 1 Axes>"
      ]
     },
     "metadata": {
      "needs_background": "light"
     },
     "output_type": "display_data"
    }
   ],
   "source": [
    "def fun2(n):\n",
    "    var = 0\n",
    "    for j in range(1,n,1):\n",
    "        # # neki izrazi složenosti O(1)\n",
    "        var += 1\n",
    "    return var;\n",
    "\n",
    "    \n",
    "def fun3(n):\n",
    "    var = 0\n",
    "    for i in range(n,0, -1):\n",
    "        # neki izrazi složenosti O(1)\n",
    "        var = 6\n",
    "    return var\n",
    "\n",
    "# driver\n",
    "if __name__ == \"__main__\":\n",
    "    n2 = input()\n",
    "    print(fun2(int(n2)))\n",
    "    n3 = input()\n",
    "    print(fun3(int(n3)))\n",
    "    plot_fun(fun2, 1, 100, 1, 10)    \n",
    "    plot_fun(fun3, 1, 100, 1, 10)    "
   ]
  },
  {
   "cell_type": "markdown",
   "metadata": {},
   "source": [
    "**Vaš komentar:**\n",
    "Petlja ovisi o ulazu n, fun2 iterira od 0 do n, fun3 unatrag (od n do 0)"
   ]
  },
  {
   "cell_type": "markdown",
   "metadata": {},
   "source": [
    "Treće: O(n$^{2}$).\n",
    "\n",
    "Pripada klasi kvadratne funkcije s ugnježđenom for petljom.\n",
    "Ovaj tip klase funkcija koristi se kod sortiranja npr. bubble sort i selection sort. Komentirati kratko rezultate i to upisati u polje koristeći Markdown."
   ]
  },
  {
   "cell_type": "code",
   "execution_count": 10,
   "metadata": {},
   "outputs": [
    {
     "name": "stdout",
     "output_type": "stream",
     "text": [
      "10 0.0009560585021972656\n",
      "10 6.330669641494751\n"
     ]
    }
   ],
   "source": [
    "def kvad1(n):\n",
    "    for i in range(1,n,1):\n",
    "        for j in range(1,n,1):\n",
    "            # neki izrazi složenosti O(1)\n",
    "            var = 10\n",
    "    return var\n",
    "\n",
    "# driver\n",
    "if __name__ == \"__main__\":\n",
    "    start = time()\n",
    "    print(kvad1(100), time() - start)\n",
    "    start2 = time()\n",
    "    print(kvad1(10000), time() - start2)"
   ]
  },
  {
   "cell_type": "markdown",
   "metadata": {},
   "source": [
    "Dodatno napisati funkciju kvad2(n) pri čemu unutarnja petlja ide od i do n s korakom 1."
   ]
  },
  {
   "cell_type": "code",
   "execution_count": null,
   "metadata": {},
   "outputs": [],
   "source": [
    "def kvad2(n):\n",
    "    pass\n",
    "\n",
    "# driver\n",
    "if __name__ == \"__main__\":\n",
    "    #n = ...\n",
    "    print(kvad2(n))"
   ]
  },
  {
   "cell_type": "markdown",
   "metadata": {},
   "source": [
    " Vaš komentar:"
   ]
  },
  {
   "cell_type": "markdown",
   "metadata": {},
   "source": [
    "### Zadatak 3:\n",
    "\n",
    "Problem složenosti O(log n).\n",
    "Problem složenosti O(log n). \n",
    "Složenost petlje postiže se za O(log n) vremena ako se varijabla petlje dijeli / množi s nekom konstantom. Ako je konstanta 2, to je onda logaritamska složenost po bazi 2."
   ]
  },
  {
   "cell_type": "code",
   "execution_count": 34,
   "metadata": {},
   "outputs": [
    {
     "name": "stdout",
     "output_type": "stream",
     "text": [
      "20\n",
      "10.0\n",
      "5.0\n",
      "2.0\n",
      "1.0\n",
      "1.0\n",
      "0.0\n",
      "0.0\n",
      "0.0\n",
      "0.0\n",
      "0.0\n",
      "0.0\n",
      "0.0\n",
      "0.0\n",
      "0.0\n",
      "None\n"
     ]
    }
   ],
   "source": [
    "def log_fun1(n):\n",
    "    i = n\n",
    "    while i >= 0.001:\n",
    "        print(round(i, 0))\n",
    "        i /= 2\n",
    "\n",
    "# driver        \n",
    "#n = ...\n",
    "print(log_fun1(20))"
   ]
  },
  {
   "cell_type": "markdown",
   "metadata": {},
   "source": [
    "Vaš komentar:"
   ]
  },
  {
   "cell_type": "markdown",
   "metadata": {},
   "source": [
    "### Zadatak 4"
   ]
  },
  {
   "cell_type": "markdown",
   "metadata": {},
   "source": [
    "Napišite funkciju log_fun2(n) složenosti O(log(n)) za slučaj kada se korak množi puta 2."
   ]
  },
  {
   "cell_type": "code",
   "execution_count": 36,
   "metadata": {},
   "outputs": [
    {
     "name": "stdout",
     "output_type": "stream",
     "text": [
      "10\n",
      "20\n",
      "40\n",
      "80\n",
      "160\n",
      "320\n",
      "640\n",
      "None\n"
     ]
    }
   ],
   "source": [
    "def log_fun2(n):\n",
    "    i = n\n",
    "    while i < 1000:\n",
    "        print(round(i, 0))\n",
    "        i *= 2\n",
    "        \n",
    "\n",
    "# driver        \n",
    "#n = ...\n",
    "print(log_fun2(10))"
   ]
  },
  {
   "cell_type": "markdown",
   "metadata": {},
   "source": [
    "### Dodatne zadatke zadati će nastavnici na vježbama i studenti ih u nastavku ovog notebook-a trebaju rješavati. Na kraju obavezno pospremiti ovaj notebook."
   ]
  },
  {
   "cell_type": "code",
   "execution_count": 32,
   "metadata": {},
   "outputs": [],
   "source": [
    "def empty():\n",
    "    pass\n",
    "\n",
    "# O(n) - jer je druga petlja konstanta\n",
    "def f1(lista1, lista2):\n",
    "    for n in range(0, len(lista1)):\n",
    "        for m in range(0, 100):\n",
    "            #print(n, m)\n",
    "            pass\n",
    "# O(1)\n",
    "def f2(lista):\n",
    "    for i in range(0, 5):\n",
    "        #print(lista[i])\n",
    "        pass\n",
    "\n",
    "# O(n^2)\n",
    "def f3(lista1, lista2):\n",
    "    # neka liste lista1 i lista2 imaju jednak broj elemenata\n",
    "    for n in range(0, len(lista1)):\n",
    "        for m in range(0, len(lista2)):\n",
    "            #print(n, m)\n",
    "            pass\n",
    "# O(n)\n",
    "def f4(lista):\n",
    "    for i in range(0, len(lista)):\n",
    "        #print(lista[i])\n",
    "        pass\n",
    "\n",
    "# O(n) jer (1/2)n=n\n",
    "def f5(lista):\n",
    "    for i in range(0, int(len(lista) / 2)):\n",
    "        #print(lista[i])\n",
    "        pass\n",
    "\n",
    "# O(n)\n",
    "def f6(lista):\n",
    "    for i in range(len(lista) - 1):\n",
    "        #print(lista[i])\n",
    "        pass\n",
    "\n",
    "# O(n)\n",
    "def f7(lista1, lista2):\n",
    "    # liste lista1 i lista2 imaju jednak broj elemenata\n",
    "    svi_elementi = lista1 + lista2\n",
    "    for i in range(0, len(svi_elementi)):\n",
    "        #print(svi_elementi[i])\n",
    "        pass"
   ]
  }
 ],
 "metadata": {
  "kernelspec": {
   "display_name": "Python 3",
   "language": "python",
   "name": "python3"
  },
  "language_info": {
   "codemirror_mode": {
    "name": "ipython",
    "version": 3
   },
   "file_extension": ".py",
   "mimetype": "text/x-python",
   "name": "python",
   "nbconvert_exporter": "python",
   "pygments_lexer": "ipython3",
   "version": "3.8.3"
  }
 },
 "nbformat": 4,
 "nbformat_minor": 2
}
