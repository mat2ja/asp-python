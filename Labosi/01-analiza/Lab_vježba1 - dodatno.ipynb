{
 "cells": [
  {
   "cell_type": "markdown",
   "metadata": {},
   "source": [
    "# Vježba 1 - Analiza učinkovitosti\n",
    "\n",
    "### Dodatni zadaci\n",
    "**Sljedeći zadaci vezani su za problem sedam funkcija složenosti."
   ]
  },
  {
   "cell_type": "markdown",
   "metadata": {},
   "source": [
    "#### Zadatak 1\n",
    "Sljedećim funkcijama dodijelite odgovarajuću vremensku složenost O(1), O(n) ili O(n$^{2}$)."
   ]
  },
  {
   "cell_type": "code",
   "execution_count": 7,
   "metadata": {},
   "outputs": [],
   "source": [
    "def empty():\n",
    "    pass\n",
    "\n",
    "# O(n) - jer je druga petlja konstanta\n",
    "def f1(lista1, lista2):\n",
    "    for n in range(0, len(lista1)):\n",
    "        for m in range(0, 100):\n",
    "            #print(n, m)\n",
    "            pass\n",
    "# O(1)\n",
    "def f2(lista):\n",
    "    for i in range(0, 5):\n",
    "        #print(lista[i])\n",
    "        pass\n",
    "\n",
    "# O(n^2)\n",
    "def f3(lista1, lista2):\n",
    "    # neka liste lista1 i lista2 imaju jednak broj elemenata\n",
    "    for n in range(0, len(lista1)):\n",
    "        for m in range(0, len(lista2)):\n",
    "            #print(n, m)\n",
    "            pass\n",
    "# O(n)\n",
    "def f4(lista):\n",
    "    for i in range(0, len(lista)):\n",
    "        #print(lista[i])\n",
    "        pass\n",
    "\n",
    "# O(n) jer (1/2)n=n\n",
    "def f5(lista):\n",
    "    for i in range(0, int(len(lista) / 2)):\n",
    "        #print(lista[i])\n",
    "        pass\n",
    "\n",
    "# O(n)\n",
    "def f6(lista):\n",
    "    for i in range(len(lista) - 1):\n",
    "        #print(lista[i])\n",
    "        pass\n",
    "\n",
    "# O(n)\n",
    "def f7(lista1, lista2):\n",
    "    # liste lista1 i lista2 imaju jednak broj elemenata\n",
    "    svi_elementi = lista1 + lista2\n",
    "    for i in range(0, len(svi_elementi)):\n",
    "        #print(svi_elementi[i])\n",
    "        pass\n"
   ]
  },
  {
   "cell_type": "markdown",
   "metadata": {},
   "source": [
    "#### Zadatak 2\n",
    "U funkciji zbroji ispod neka je parametar p lista cijelih brojeva. Da li je moguće napisati ovu funkciju tako da zbraja sve elemente liste p u vremenu O(1)?"
   ]
  },
  {
   "cell_type": "code",
   "execution_count": null,
   "metadata": {},
   "outputs": [],
   "source": [
    "def zbroji(p):\n",
    "..."
   ]
  },
  {
   "cell_type": "markdown",
   "metadata": {},
   "source": [
    "#### Zadatak 3\n",
    "Napišite funkciju koja sortira elemente tako da uzastopno traži najmanji element u listi (pod uvjetom da je prethodni najmanji element uklonjen iz liste). Koja je vremenska složenost ove funkcije?"
   ]
  },
  {
   "cell_type": "code",
   "execution_count": null,
   "metadata": {},
   "outputs": [],
   "source": []
  },
  {
   "cell_type": "markdown",
   "metadata": {},
   "source": [
    "#### Zadatak 4\n",
    "Napišite funkciju koja preokreće elemente liste (na primjer, za listu [1, 2, 3] daje listu [3, 2, 1]). Koja je vremenska složenost vaše funkcije?"
   ]
  },
  {
   "cell_type": "code",
   "execution_count": null,
   "metadata": {},
   "outputs": [],
   "source": []
  }
 ],
 "metadata": {
  "kernelspec": {
   "display_name": "Python 3",
   "language": "python",
   "name": "python3"
  },
  "language_info": {
   "codemirror_mode": {
    "name": "ipython",
    "version": 3
   },
   "file_extension": ".py",
   "mimetype": "text/x-python",
   "name": "python",
   "nbconvert_exporter": "python",
   "pygments_lexer": "ipython3",
   "version": "3.8.3"
  }
 },
 "nbformat": 4,
 "nbformat_minor": 2
}
