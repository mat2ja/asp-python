{
 "cells": [
  {
   "cell_type": "markdown",
   "metadata": {},
   "source": [
    "#### 1. Algoritam „bubble sort“ \n",
    "radi tako da uzastopno zamijenjuje dva susjedna elementa ako su u pogrešnom redoslijedu. Napišite funkciju bubble_sort koja sortira vrijednosti u opadajućem redoslijedu prema tom algoritmu. Generirati slučajni niz brojeva N= 200, sortirati ga i ispisati sortirani niz.Implementirajte algoritam „bubble sort“ koji osigurava složenost sortiranja reda O(n) ako je niz već sortiran."
   ]
  },
  {
   "cell_type": "code",
   "execution_count": 1,
   "metadata": {},
   "outputs": [],
   "source": [
    "from random import randint"
   ]
  },
  {
   "cell_type": "code",
   "execution_count": 50,
   "metadata": {},
   "outputs": [
    {
     "name": "stdout",
     "output_type": "stream",
     "text": [
      "[36, 56, 57, 93, 107, 144, 145, 147, 151, 162]\n"
     ]
    }
   ],
   "source": [
    "a = [randint(1,200) for i in range(10)]\n",
    "\n",
    "def bubble_sort(arr):\n",
    "    n = len(arr)\n",
    "\n",
    "    for i in range(n):\n",
    "        for j in range(0, n-i-1):\n",
    "            if arr[j] > arr[j+1]:\n",
    "                arr[j], arr[j+1] = arr[j+1], arr[j]\n",
    "\n",
    "    return arr\n",
    "\n",
    "\n",
    "def bubble_sort_optimized(arr):\n",
    "    n = len(arr)\n",
    "\n",
    "    for i in range(n):\n",
    "        swapped = False\n",
    "        for j in range(0, n-i-1):\n",
    "            if arr[j] > arr[j+1]:\n",
    "                arr[j], arr[j+1] = arr[j+1], arr[j]\n",
    "                swapped = True\n",
    "        if not swapped:\n",
    "            break\n",
    "    return arr\n",
    "\n",
    "\n",
    "def bubble_sort_optimized2(arr):\n",
    "    n = len(arr)\n",
    "    \n",
    "    swapped = True\n",
    "    while swapped:\n",
    "        swapped = False\n",
    "        for i in range(n-1):\n",
    "            if arr[i] > arr[i+1]:\n",
    "                arr[i], arr[i+1] = arr[i+1], arr[i]\n",
    "                swapped = True\n",
    "                \n",
    "    return arr\n",
    "\n",
    "print(bubble_sort_optimized(a))\n",
    "\n"
   ]
  },
  {
   "cell_type": "markdown",
   "metadata": {},
   "source": [
    "Komentar i obrazloženje prvog zadatka: "
   ]
  },
  {
   "cell_type": "markdown",
   "metadata": {},
   "source": [
    "#### 2. Zadatak\n",
    "Za prethodni zadatak napišite test program koji uspoređuje vremena izvršavanja ovih dvaju algoritama na nizovima od 1000, 10000, 20000 i 50000 elemenata (izmjeriti vremena). Niz brojeva generirajte slučajno u rasponu od 1000 do 9999."
   ]
  },
  {
   "cell_type": "code",
   "execution_count": 56,
   "metadata": {},
   "outputs": [
    {
     "name": "stdout",
     "output_type": "stream",
     "text": [
      "Bubble sort took 0.1101222038269043ms\n",
      "Optimized bubble sort took 0.08976006507873535ms\n"
     ]
    }
   ],
   "source": [
    "from time import time\n",
    "\n",
    "a = [randint(1000,9999) for i in range(1000)]\n",
    "\n",
    "s1 = time()\n",
    "bubble_sort(a[:])\n",
    "e1 = time()\n",
    "\n",
    "s2 = time()\n",
    "bubble_sort_optimized(a[:])\n",
    "e2 = time()\n",
    "\n",
    "print(f\"Bubble sort took {e1-s1}ms\")\n",
    "print(f\"Optimized bubble sort took {e2-s2}ms\")"
   ]
  },
  {
   "cell_type": "markdown",
   "metadata": {},
   "source": [
    "#### 3. Zadatak \n",
    "\n",
    "Zadan je niz A [] koji se sastoji od 0, 1 i 2. Zadatak je napisati funkciju koja sortira dati niz. Funkcije bi trebale prvo staviti sve 0, zatim sve 1  i sve 2  na kraju. Primjer niza je:\n",
    "\n",
    "Ulaz: [0, 1, 1, 0, 1, 2, 1, 2, 0, 0, 0, 1]\n",
    "\n",
    "Sortirani izlaz: [0, 0, 0, 0, 0, 1, 1, 1, 1, 1, 2, 2]\n",
    "\n",
    "Vaša implementacija mora osigurati sortiranje vremenske složenosti O(n) i memorijske složenosti O(1).\n",
    "Za testiranje generijate niz duljine N=300 sa slučajnim brojevima između 0 i 2 (dakle u nizu morate imati samo nule, jedinice i dvojke). Ispišite rezultate (sortirani i nesortirani niz). Obrazložite zašto vaše rješenje ima vremensku složenost O(n).\n",
    "\n",
    "Preporuka: Znamo da u pravilu nemamo algoritme sortiranja složenosti O(n). No u specifičnim slučajevima kao što je ovaj možemo napraviti algoritam koji ima složenost O(n).\n",
    "1. Prvo prebrojimo  koliko imamo 0, 1 i 2 i pospremimo u neki brojač.\n",
    "2. Zatim punimo polje s vrijednostima 0, 1 i 2 zaredom onolko puta koliko je brojačima izborjeno. \n"
   ]
  },
  {
   "cell_type": "code",
   "execution_count": 53,
   "metadata": {},
   "outputs": [
    {
     "name": "stdout",
     "output_type": "stream",
     "text": [
      "[0, 1, 1, 0, 1, 2, 1, 2, 0, 0, 0, 1]\n",
      "[0, 0, 0, 0, 0, 1, 1, 1, 1, 1, 2, 2]\n"
     ]
    }
   ],
   "source": [
    "A = [0, 1, 1, 0, 1, 2, 1, 2, 0, 0, 0, 1]\n",
    "\n",
    "def sortiraj(arr):\n",
    "    br_0 = arr.count(0)\n",
    "    br_1 = arr.count(1)\n",
    "    br_2 = arr.count(2)\n",
    "    \n",
    "    return [0] * br_0 + [1] * br_1 + [2] * br_2\n",
    "    \n",
    "    \n",
    "print(A)\n",
    "print(sortiraj(A))\n",
    "    "
   ]
  },
  {
   "cell_type": "markdown",
   "metadata": {},
   "source": [
    "#### 4. Sortiranje niza u obliku vala \n",
    "Zadani  nesortirani niz cijelih brojeva, sortirajte kao niz u obliku vala kao npr. 'niz arr [0..n-1]' sortiran je u obliku vala ako je arr [0]> = arr [1] <= arr [2]> = arr [3] <= arr [4]> = ... .\n",
    "\n",
    "Primjer:\n",
    "\n",
    "Ulaz:  arr[] = [3, 6, 5, 10, 7, 20]\n",
    "\n",
    "Sortirani izlaz: arr[] = [6, 3, 10, 5, 20, 7]\n",
    "\n",
    "U ovom primjeru vidimo praktički dva sortirana niza, gdje je prvi niz ima vrijednosti na indeksima 0, 2, 4 .. (parni indeksi), a drugi niz ima vrijednosti na neparnim indeksima 1,3,5... (neparni). Implemntirajte algoritam sortiranja koji neće imati goru vremensku složenost od O(n log n).\n",
    "U driver programu pokažite funkcioniranje vašeg algoritma na nizu od N=50 slučajno generiranih brojeva između 1 i 100. Ispisati prvo nesortirani niz, a zatim valno sortirani niz.\n",
    "\n",
    "Preporuka: sortirati niz koristeći bilo koji algoritam sortiranja (može Python funkcija sort()). \n",
    "Zatim swop dviju susujednih vrijednosti da dobijete valovito sortiran niz. \n"
   ]
  },
  {
   "cell_type": "code",
   "execution_count": 2,
   "metadata": {},
   "outputs": [
    {
     "name": "stdout",
     "output_type": "stream",
     "text": [
      "A [3, 6, 5, 10, 7, 20]\n",
      "  [6, 3, 10, 5, 20, 7]\n",
      "B [3, 6, 5, 10, 7, 20, 4]\n",
      "  [6, 3, 10, 4, 20, 5, 7]\n",
      "C [3, 60, 5, 10, 7, 20, 4]\n",
      "  [10, 3, 20, 4, 60, 5, 7]\n",
      "D [6, 16, 1, 3, 21, 7, 9, 22]\n",
      "  [3, 1, 7, 6, 16, 9, 22, 21]\n"
     ]
    }
   ],
   "source": [
    "def valno_sortiraj(original):\n",
    "    arr = original[:]\n",
    "    n = len(arr)\n",
    "\n",
    "    insertion_sort(arr, n)\n",
    "\n",
    "    for i in range(1, n):\n",
    "        if i % 2 == 1:\n",
    "            if arr[i-1] < arr[i]:\n",
    "                arr[i-1], arr[i] = arr[i], arr[i-1]\n",
    "\n",
    "    return arr\n",
    "\n",
    "\n",
    "def insertion_sort(arr, n):\n",
    "    for i in range(2, n):\n",
    "        num = arr[i]\n",
    "        j = i-2\n",
    "        while j >= 0 and num < arr[j]:\n",
    "            arr[j+2] = arr[j]\n",
    "            j -= 2\n",
    "        arr[j+2] = num\n",
    "    return arr\n",
    "\n",
    "\n",
    "A = [3, 6, 5, 10, 7, 20]\n",
    "B = [3, 6, 5, 10, 7, 20, 4]\n",
    "C = [3, 60, 5, 10, 7, 20, 4]\n",
    "D = [6, 16, 1, 3, 21, 7, 9, 22]\n",
    "\n",
    "print(\"A\", A)                  # [3, 6, 5, 10, 7, 20]\n",
    "print(\" \", valno_sortiraj(A))  # [6, 3, 10, 5, 20, 7]\n",
    "print(\"B\", B)                  # [3, 6, 5, 10, 7, 20, 4]\n",
    "print(\" \", valno_sortiraj(B))  # [6, 3, 10, 4, 20, 5, 7]\n",
    "print(\"C\", C)                  # [3, 60, 5, 10, 7, 20, 4]\n",
    "print(\" \", valno_sortiraj(C))  # [10, 3, 20, 4, 60, 5, 7]\n",
    "print(\"D\", D)                  # [6, 16, 1, 3, 21, 7, 9, 22]\n",
    "print(\" \", valno_sortiraj(D))  # [3, 1, 7, 6, 16, 9, 22, 21]"
   ]
  }
 ],
 "metadata": {
  "kernelspec": {
   "display_name": "Python 3",
   "language": "python",
   "name": "python3"
  },
  "language_info": {
   "codemirror_mode": {
    "name": "ipython",
    "version": 3
   },
   "file_extension": ".py",
   "mimetype": "text/x-python",
   "name": "python",
   "nbconvert_exporter": "python",
   "pygments_lexer": "ipython3",
   "version": "3.8.3"
  }
 },
 "nbformat": 4,
 "nbformat_minor": 2
}
