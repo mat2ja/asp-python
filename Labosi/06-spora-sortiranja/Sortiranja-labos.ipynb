{
 "cells": [
  {
   "cell_type": "code",
   "execution_count": 4,
   "metadata": {},
   "outputs": [],
   "source": [
    "# 1\n",
    "def bubble_sort(arr):\n",
    "    n = len(arr)\n",
    "    for i in range(n):\n",
    "        for j in range(n-i-1):\n",
    "            if arr[j] > arr[j+1]:\n",
    "                arr[j], arr[j+1] = arr[j+1], arr[j]\n",
    "                \n",
    "    return arr\n",
    "\n"
   ]
  },
  {
   "cell_type": "code",
   "execution_count": 7,
   "metadata": {},
   "outputs": [],
   "source": [
    "# 2\n",
    "def insertion_sort(arr):\n",
    "    for i in range(1, len(arr)):\n",
    "        key = arr[i]\n",
    "        j = i-1\n",
    "        \n",
    "        while j >= 0 and key < arr[j]:\n",
    "            arr[j+1] = arr[j]\n",
    "            j -= 1\n",
    "        arr[j+1] = key\n",
    "        \n",
    "    return arr\n",
    "\n",
    "    "
   ]
  },
  {
   "cell_type": "code",
   "execution_count": 8,
   "metadata": {},
   "outputs": [
    {
     "name": "stdout",
     "output_type": "stream",
     "text": [
      "Bubble: 0.10209440ms\n",
      "Insertion: 0.05106780ms\n"
     ]
    }
   ],
   "source": [
    "# 3\n",
    "\n",
    "from random import randint\n",
    "from time import time\n",
    "import timeit\n",
    "\n",
    "a = [randint(1,20) for i in range(1000)]\n",
    "\n",
    "def test_bubble():\n",
    "    bubble_a = bubble_sort(a[:])\n",
    "    #print(\"Bubble:\",bubble_a)\n",
    "    \n",
    "def test_insertion():\n",
    "    ins_a = insertion_sort(a[:])\n",
    "    #print(\"Ins:\",ins_a)\n",
    "    \n",
    "\n",
    "print(f\"Bubble: {timeit.Timer(test_bubble).timeit(number=1):.8f}ms\")\n",
    "print(f\"Insertion: {timeit.Timer(test_insertion).timeit(number=1):.8f}ms\")\n"
   ]
  },
  {
   "cell_type": "markdown",
   "metadata": {},
   "source": [
    "4. Proširite funkciju bubble_sort tako da može sortirati niz koji se sastoji od bilo kakvih\n",
    "objekata, gdje se funkcija usporedbe dvaju elemenata može zadati kao parametar."
   ]
  },
  {
   "cell_type": "code",
   "execution_count": 9,
   "metadata": {},
   "outputs": [
    {
     "name": "stdout",
     "output_type": "stream",
     "text": [
      "[1, 3, 4, 5, 6, 8, 9, 12]\n"
     ]
    }
   ],
   "source": [
    "# 4\n",
    "\n",
    "def bubble_sort(arr, func):\n",
    "    n = len(arr)\n",
    "    for i in range(n):\n",
    "        for j in range(n-i-1):\n",
    "            if func(arr[j], arr[j+1]):\n",
    "                arr[j], arr[j+1] = arr[j+1], arr[j]\n",
    "                \n",
    "    return arr\n",
    "\n",
    "def usporedba_brojeva(a,b):\n",
    "    if a > b:\n",
    "        return True\n",
    "    return False\n",
    "\n",
    "lista = [3,4,5,1,9,8,12,6]\n",
    "print(bubble_sort(lista, usporedba_brojeva))"
   ]
  }
 ],
 "metadata": {
  "kernelspec": {
   "display_name": "Python 3",
   "language": "python",
   "name": "python3"
  },
  "language_info": {
   "codemirror_mode": {
    "name": "ipython",
    "version": 3
   },
   "file_extension": ".py",
   "mimetype": "text/x-python",
   "name": "python",
   "nbconvert_exporter": "python",
   "pygments_lexer": "ipython3",
   "version": "3.8.3"
  }
 },
 "nbformat": 4,
 "nbformat_minor": 4
}
