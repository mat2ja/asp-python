{
 "cells": [
  {
   "cell_type": "markdown",
   "metadata": {},
   "source": [
    "#### 1. Napišite rekurzivnu funkciju koja vraća zbroj svih vrijednosti u listi koja sadrži samo brojeve."
   ]
  },
  {
   "cell_type": "code",
   "execution_count": 122,
   "metadata": {},
   "outputs": [
    {
     "name": "stdout",
     "output_type": "stream",
     "text": [
      "0\n",
      "20\n",
      "15\n"
     ]
    }
   ],
   "source": [
    "def zbroji(lista):\n",
    "    if len(lista) <= 0:\n",
    "        return 0;\n",
    "    else:\n",
    "        return lista[0] + zbroji(lista[1:])\n",
    "\n",
    "    \n",
    "print(zbroji([]))\n",
    "print(zbroji([20]))\n",
    "print(zbroji([1,2,3,4,5]))"
   ]
  },
  {
   "cell_type": "markdown",
   "metadata": {},
   "source": [
    "#### 2. Napišite rekurzivnu funkciju preokreni koja preokreće listu"
   ]
  },
  {
   "cell_type": "code",
   "execution_count": 2,
   "metadata": {},
   "outputs": [
    {
     "name": "stdout",
     "output_type": "stream",
     "text": [
      "[5, 2, 3, 4, 1]\n",
      "[5, 4, 3, 2, 1]\n",
      "[5, 4, 3, 2, 1]\n"
     ]
    }
   ],
   "source": [
    "def preokreni(lista):\n",
    "    if len(lista) <= 0:\n",
    "        return lista\n",
    "\n",
    "    lista[0], lista[-1] = lista[-1], lista[0]\n",
    "    preokreni(lista[1:-1])\n",
    "    return lista\n",
    "\n",
    "\n",
    "def preokreni2(lista):\n",
    "    if not lista:\n",
    "        return lista\n",
    "    return [lista[-1]] + preokreni2(lista[:-1])\n",
    "\n",
    "\n",
    "def preokreni3(lista):\n",
    "    if not lista:\n",
    "        return lista\n",
    "    return preokreni3(lista[1:]) + [lista[0]]\n",
    "\n",
    "\n",
    "print(preokreni([1, 2, 3, 4, 5]))\n",
    "print(preokreni2([1, 2, 3, 4, 5]))\n",
    "print(preokreni3([1, 2, 3, 4, 5]))\n"
   ]
  },
  {
   "cell_type": "markdown",
   "metadata": {},
   "source": [
    "#### 3. Napišite funkciju postoji koja pronalazi zadani element u listi koja može sadržavati druge liste i vraća True ako taj element postoji, u suprotnom vraća False."
   ]
  },
  {
   "cell_type": "code",
   "execution_count": 1,
   "metadata": {},
   "outputs": [
    {
     "name": "stdout",
     "output_type": "stream",
     "text": [
      "True\n",
      "True\n",
      "True\n",
      "True\n",
      "False\n"
     ]
    }
   ],
   "source": [
    "def postoji(trazeni, lista):\n",
    "    if not lista:\n",
    "        return False\n",
    "\n",
    "    for elem in lista:\n",
    "        if elem == trazeni:\n",
    "            return True\n",
    "        if isinstance(elem, list) and postoji(trazeni, elem):\n",
    "            return True\n",
    "    return False\n",
    "\n",
    "\n",
    "A = ['a', [['b', 'c'], 'd', ['e']], 'f']\n",
    "print(postoji('a', A))\n",
    "print(postoji('c', A))\n",
    "print(postoji('d', A))\n",
    "print(postoji('e', A))\n",
    "print(postoji('w', A))"
   ]
  },
  {
   "cell_type": "markdown",
   "metadata": {},
   "source": [
    "#### 4. Napišite rekurzivnu funkciju palindrom koja vraća True ako je zadani string palindrom (isti s lijeva i zdesna), u suprotnom vraća False."
   ]
  },
  {
   "cell_type": "code",
   "execution_count": 3,
   "metadata": {},
   "outputs": [
    {
     "name": "stdout",
     "output_type": "stream",
     "text": [
      "True\n",
      "True\n",
      "True\n",
      "True\n",
      "True\n",
      "False\n",
      "False\n",
      "True\n"
     ]
    }
   ],
   "source": [
    "def palindrom(S):\n",
    "    S = S.strip().replace(\" \", \"\").lower()\n",
    "    if len(S) <= 2:\n",
    "        return True\n",
    "    elif S[0] != S[-1]:\n",
    "        return False\n",
    "    else:\n",
    "        return palindrom(S[1:-1])\n",
    "\n",
    "\n",
    "# def palindrom(S):\n",
    "#     S = S.strip().replace(\" \", \"\").lower()\n",
    "#     return S == S[::-1]\n",
    "\n",
    "\n",
    "print(palindrom(''))\n",
    "print(palindrom('k'))\n",
    "print(palindrom('kk'))\n",
    "print(palindrom('ada'))\n",
    "print(palindrom('madam'))\n",
    "print(palindrom('madom'))\n",
    "print(palindrom('borat'))\n",
    "print(palindrom(\"A Santa Lived As a Devil At NASA\"))"
   ]
  },
  {
   "cell_type": "markdown",
   "metadata": {},
   "source": [
    "#### 5. Napišite rekurzivnu funkciju dubina koja utvrđuje maksimalnu dubinu liste. Primjerice, lista ['a', ['b', 'c', [['d']], '[[[X]]]']] ima dubinu 3 (na kojoj se nalazi element ‘d’; element ‘a’ je na dubini 0, element '[[[X]]]' je string, ne lista)."
   ]
  },
  {
   "cell_type": "code",
   "execution_count": 10,
   "metadata": {},
   "outputs": [
    {
     "name": "stdout",
     "output_type": "stream",
     "text": [
      "2\n",
      "3\n",
      "5\n",
      "4\n"
     ]
    }
   ],
   "source": [
    "def dubina(lista):\n",
    "    max_dubina = 0\n",
    "    for elem in lista:\n",
    "        if isinstance(elem, list):\n",
    "            dubina = dubina(elem)\n",
    "            if dubina > max_dubina:\n",
    "                max_dubina = dubina\n",
    "\n",
    "    return max_dubina + 1\n",
    "\n",
    "\n",
    "A = [1, [2], 1, [2, [3]]]\n",
    "B = [1, 1, [2, [3], [3, [4, 4, 4]]], 1, [2, [3, 3, [4, [5]]]]]\n",
    "C = ['a', ['b', 'c', [['d']], '[[[X]]]']]\n",
    "\n",
    "print(kalkDubina(A))\n",
    "print(kalkDubina(B))\n",
    "print(kalkDubina(C))\n"
   ]
  }
 ],
 "metadata": {
  "kernelspec": {
   "display_name": "Python 3",
   "language": "python",
   "name": "python3"
  },
  "language_info": {
   "codemirror_mode": {
    "name": "ipython",
    "version": 3
   },
   "file_extension": ".py",
   "mimetype": "text/x-python",
   "name": "python",
   "nbconvert_exporter": "python",
   "pygments_lexer": "ipython3",
   "version": "3.8.3"
  }
 },
 "nbformat": 4,
 "nbformat_minor": 4
}
