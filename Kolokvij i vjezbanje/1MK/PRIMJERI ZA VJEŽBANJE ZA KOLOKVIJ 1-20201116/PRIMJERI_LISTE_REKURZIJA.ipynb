{
 "cells": [
  {
   "cell_type": "markdown",
   "metadata": {},
   "source": [
    "# Python lista \n",
    "\n",
    "Nested list (ugnježđene liste)\n",
    "\n",
    "Python prazna lista se instancira s L = []  ili L=list().\n",
    "\n",
    "\n",
    "Python List metde: \n",
    "\n",
    "1. append() - Add an element to the end of the list\n",
    "2. extend() - Add all elements of a list to the another list\n",
    "3. insert() - Insert an item at the defined index\n",
    "4. remove() - Removes an item from the list\n",
    "5. pop() - Removes and returns an element at the given index\n",
    "6. clear() - Removes all items from the list\n",
    "7. index() - Returns the index of the first matched item\n",
    "8. count() - Returns the count of the number of items passed as an argumentsort() - Sort items in a 9. list in ascending order\n",
    "10. reverse() - Reverse the order of items in the list\n",
    "11. copy() - Returns a shallow copy of the list\n",
    "\n"
   ]
  },
  {
   "cell_type": "code",
   "execution_count": null,
   "metadata": {},
   "outputs": [],
   "source": [
    "#Način punjenje liste\n",
    "pow2 = [2 ** x for x in range(10)]\n",
    "print(pow2)"
   ]
  },
  {
   "cell_type": "code",
   "execution_count": null,
   "metadata": {},
   "outputs": [],
   "source": [
    "# čitanje liste\n",
    "for fruit in ['apple','banana','mango']:\n",
    "    print(\"I like\",fruit)"
   ]
  },
  {
   "cell_type": "markdown",
   "metadata": {},
   "source": [
    "### Python ubacivanje stringa na početak svih elemenata u listi\n",
    "\n",
    "Primjer:\n",
    "\n",
    "Ulaz : list = ['A', 'B', 'C'], str = 'Tim' \n",
    "\n",
    "Izlaz : list = ['TimA', 'TimB', 'TimC']"
   ]
  },
  {
   "cell_type": "code",
   "execution_count": 1,
   "metadata": {},
   "outputs": [
    {
     "name": "stdout",
     "output_type": "stream",
     "text": [
      "['TimA', 'TimB', 'TimC']\n"
     ]
    }
   ],
   "source": [
    "# Pythonprogram za ubacivanje stringa ispred svih elem u listi\n",
    "\n",
    "def UbaciIspred(list, str): \n",
    "    str += '% s'\n",
    "    list =  [str % i for i in list] \n",
    "    return(list) \n",
    "\n",
    "# Driver  \n",
    "list = ['A', 'B', 'C'] \n",
    "str = 'Tim'\n",
    "print(UbaciIspred(list, str)) \n"
   ]
  },
  {
   "cell_type": "markdown",
   "metadata": {},
   "source": [
    "### Suma zadnjih K elementa u listi upotrebom slice\n",
    "\n"
   ]
  },
  {
   "cell_type": "code",
   "execution_count": 1,
   "metadata": {},
   "outputs": [
    {
     "name": "stdout",
     "output_type": "stream",
     "text": [
      "Originalna lista je : [4, 5, 2, 6, 7, 8, 10]\n",
      "Suma zadnji K elemenata liste je : 33\n"
     ]
    }
   ],
   "source": [
    "#  \n",
    "# Inverzna  K slice suma\n",
    "# upotreba list slicing + sum() \n",
    "  \n",
    "# init liste  \n",
    "test_list = [4, 5, 2, 6, 7, 8, 10]  \n",
    "  \n",
    "# ispis originalne liste  \n",
    "print(\"Originalna lista je : \" + str(test_list))  \n",
    "  \n",
    "# init  K  \n",
    "K = 5\n",
    "  \n",
    "# Poziv metode sum \n",
    "res = sum(test_list[-K:]) \n",
    "  \n",
    "# ispis rezultata \n",
    "print(\"Suma zadnji K elemenata liste je : \" + str(res))  \n",
    "\n"
   ]
  },
  {
   "cell_type": "markdown",
   "metadata": {},
   "source": [
    "### Nested list ili ugnježđena lista\n",
    "\n",
    "L = ['a', ['bb', ['ccc', 'ddd'], 'ee', 'ff'], 'g', 'h']\n",
    "\n",
    "\n"
   ]
  },
  {
   "cell_type": "code",
   "execution_count": 2,
   "metadata": {},
   "outputs": [
    {
     "name": "stdout",
     "output_type": "stream",
     "text": [
      "a\n",
      "['bb', ['ccc', 'ddd'], 'ee', 'ff']\n",
      "bb\n",
      "['ccc', 'ddd']\n",
      "ccc\n"
     ]
    }
   ],
   "source": [
    "# Za zadanu NL ispisati preko indeksa elemente liste\n",
    "L = ['a', ['bb', ['ccc', 'ddd'], 'ee', 'ff'], 'g', 'h']\n",
    "# ispis \"a\"\n",
    "print(L[0])\n",
    "# ispis ugnježđene liste u kojoj je \"bb\"\n",
    "print(L[1])\n",
    "# ispis  \"bb\"\n",
    "# ispis ugnježđene liste u kojoj je \"bb\"\n",
    "print(L[1][0])\n",
    "# ispis ugnjeđžđene liste u kojoj je \"ccc\" i \"ddd\"\n",
    "print(L[1][1])\n",
    "# ispis prvog elementa u ugnježđenoj listi ['ccc', 'ddd']\n",
    "print(L[1][1][0])\n"
   ]
  },
  {
   "cell_type": "markdown",
   "metadata": {},
   "source": [
    "# Rekurzija\n",
    "\n",
    "\n",
    "### Traženje zadanog podatka u ungnježđenoj listi\n",
    "\n",
    "Potrebno je napisati rekurzivnu funkciju koja za zadanu ugnježđenu listi (nested list) određuje da li se u listi nalazi (True) ili ne nalazi (False) zadani elemnt.\n",
    "\n",
    "Primjer NL:\n",
    "\n",
    "A=[1, [2, [3], 4]]\n",
    "\n",
    "B=[1, [2, [3], 4]]\n",
    "\n",
    "C=[[2,4],[6,[[[8, 11],10]],12],14,16]\n",
    "\n",
    "D=[['x','y'], ['z','p'], ['m',['a','b','c',['d','e']]]]"
   ]
  },
  {
   "cell_type": "code",
   "execution_count": 3,
   "metadata": {},
   "outputs": [
    {
     "name": "stdout",
     "output_type": "stream",
     "text": [
      "False\n",
      "False\n",
      "False\n",
      "False\n"
     ]
    }
   ],
   "source": [
    "def trazi_element_u_NL(nlista, trazeni):\n",
    "    for elem in nlista:\n",
    "        if type(elem) is list:  # provjerimo da li je tip elementa lista\n",
    "            if trazi_element_u_NL(elem, trazeni):\n",
    "                return True\n",
    "        if elem == trazeni:\n",
    "            return True\n",
    "    return False\n",
    "\n",
    "\n",
    "# driver kod\n",
    "A=[1, [2, [3], 4]]\n",
    "B=[1, [2, [3], 4]]\n",
    "C=[[2,4],[6,[[[8, 11],10]],12],14,16]\n",
    "D=[['x','y'], ['z','p'], ['m',['a','b','c',['d','e']]]]\n",
    "print(trazi_element_u_NL(A, 4))  # True\n",
    "print(trazi_element_u_NL(B, 5))  # False\n",
    "print(trazi_element_u_NL(C, 11))  # True\n",
    "print(trazi_element_u_NL(D, \"f\"))  # True"
   ]
  },
  {
   "cell_type": "markdown",
   "metadata": {},
   "source": [
    "### Rekurzivno pretvori ugnježđenu listu u obični listu poredanih elemanta (poravnanje)\n",
    "\n",
    "1. Inicijalizirajte varijablu na ugniježđeni popis.\n",
    "2. Proslijedite popis kao argument rekurzivnoj funkciji za poravnanje popisa.\n",
    "3. Ako je popis prazan, vratite ga u funkciju.\n",
    "4. U suprotnom, funkcija se rekurzivno poziva s podlistama kao parametrima sve dok se cijela lista ne poravna.\n",
    "5. Ispišite poravnau lsitu.\n",
    "\n"
   ]
  },
  {
   "cell_type": "code",
   "execution_count": 7,
   "metadata": {},
   "outputs": [
    {
     "ename": "TypeError",
     "evalue": "isinstance() arg 2 must be a type or tuple of types",
     "output_type": "error",
     "traceback": [
      "\u001b[1;31m---------------------------------------------------------------------------\u001b[0m",
      "\u001b[1;31mTypeError\u001b[0m                                 Traceback (most recent call last)",
      "\u001b[1;32m<ipython-input-7-8f8834cf7ce1>\u001b[0m in \u001b[0;36m<module>\u001b[1;34m\u001b[0m\n\u001b[0;32m     10\u001b[0m \u001b[0ms1\u001b[0m\u001b[1;33m=\u001b[0m\u001b[1;33m[\u001b[0m\u001b[1;33m[\u001b[0m\u001b[1;36m1\u001b[0m\u001b[1;33m,\u001b[0m\u001b[1;36m2\u001b[0m\u001b[1;33m]\u001b[0m\u001b[1;33m,\u001b[0m\u001b[1;33m[\u001b[0m\u001b[1;36m3\u001b[0m\u001b[1;33m,\u001b[0m\u001b[1;36m4\u001b[0m\u001b[1;33m]\u001b[0m\u001b[1;33m]\u001b[0m\u001b[1;33m\u001b[0m\u001b[1;33m\u001b[0m\u001b[0m\n\u001b[0;32m     11\u001b[0m \u001b[0ms2\u001b[0m\u001b[1;33m=\u001b[0m\u001b[1;33m[\u001b[0m\u001b[1;33m[\u001b[0m\u001b[1;34m'x'\u001b[0m\u001b[1;33m,\u001b[0m\u001b[1;34m'y'\u001b[0m\u001b[1;33m]\u001b[0m\u001b[1;33m,\u001b[0m \u001b[1;33m[\u001b[0m\u001b[1;34m'z'\u001b[0m\u001b[1;33m,\u001b[0m\u001b[1;34m'p'\u001b[0m\u001b[1;33m]\u001b[0m\u001b[1;33m,\u001b[0m \u001b[1;33m[\u001b[0m\u001b[1;34m'm'\u001b[0m\u001b[1;33m,\u001b[0m\u001b[1;33m[\u001b[0m\u001b[1;34m'a'\u001b[0m\u001b[1;33m,\u001b[0m\u001b[1;34m'b'\u001b[0m\u001b[1;33m,\u001b[0m\u001b[1;34m'c'\u001b[0m\u001b[1;33m,\u001b[0m\u001b[1;33m[\u001b[0m\u001b[1;34m'd'\u001b[0m\u001b[1;33m,\u001b[0m\u001b[1;34m'e'\u001b[0m\u001b[1;33m]\u001b[0m\u001b[1;33m]\u001b[0m\u001b[1;33m]\u001b[0m\u001b[1;33m]\u001b[0m\u001b[1;33m\u001b[0m\u001b[1;33m\u001b[0m\u001b[0m\n\u001b[1;32m---> 12\u001b[1;33m \u001b[0mprint\u001b[0m\u001b[1;33m(\u001b[0m\u001b[1;34m\"Poravnana lista je: \"\u001b[0m\u001b[1;33m,\u001b[0m\u001b[0mporavnaj\u001b[0m\u001b[1;33m(\u001b[0m\u001b[0ms1\u001b[0m\u001b[1;33m)\u001b[0m\u001b[1;33m)\u001b[0m\u001b[1;33m\u001b[0m\u001b[1;33m\u001b[0m\u001b[0m\n\u001b[0m\u001b[0;32m     13\u001b[0m \u001b[0mprint\u001b[0m\u001b[1;33m(\u001b[0m\u001b[1;34m\"Poravnana lista je: \"\u001b[0m\u001b[1;33m,\u001b[0m\u001b[0mporavnaj\u001b[0m\u001b[1;33m(\u001b[0m\u001b[0ms2\u001b[0m\u001b[1;33m)\u001b[0m\u001b[1;33m)\u001b[0m\u001b[1;33m\u001b[0m\u001b[1;33m\u001b[0m\u001b[0m\n",
      "\u001b[1;32m<ipython-input-7-8f8834cf7ce1>\u001b[0m in \u001b[0;36mporavnaj\u001b[1;34m(S)\u001b[0m\n\u001b[0;32m      2\u001b[0m     \u001b[1;32mif\u001b[0m \u001b[0mS\u001b[0m \u001b[1;33m==\u001b[0m \u001b[1;33m[\u001b[0m\u001b[1;33m]\u001b[0m\u001b[1;33m:\u001b[0m\u001b[1;33m\u001b[0m\u001b[1;33m\u001b[0m\u001b[0m\n\u001b[0;32m      3\u001b[0m         \u001b[1;32mreturn\u001b[0m \u001b[0mS\u001b[0m\u001b[1;33m\u001b[0m\u001b[1;33m\u001b[0m\u001b[0m\n\u001b[1;32m----> 4\u001b[1;33m     \u001b[1;32mif\u001b[0m \u001b[0misinstance\u001b[0m\u001b[1;33m(\u001b[0m\u001b[0mS\u001b[0m\u001b[1;33m[\u001b[0m\u001b[1;36m0\u001b[0m\u001b[1;33m]\u001b[0m\u001b[1;33m,\u001b[0m \u001b[0mlist\u001b[0m\u001b[1;33m)\u001b[0m\u001b[1;33m:\u001b[0m\u001b[1;33m\u001b[0m\u001b[1;33m\u001b[0m\u001b[0m\n\u001b[0m\u001b[0;32m      5\u001b[0m         \u001b[1;32mreturn\u001b[0m \u001b[0mporavnaj\u001b[0m\u001b[1;33m(\u001b[0m\u001b[0mS\u001b[0m\u001b[1;33m[\u001b[0m\u001b[1;36m0\u001b[0m\u001b[1;33m]\u001b[0m\u001b[1;33m)\u001b[0m \u001b[1;33m+\u001b[0m \u001b[0mporavnaj\u001b[0m\u001b[1;33m(\u001b[0m\u001b[0mS\u001b[0m\u001b[1;33m[\u001b[0m\u001b[1;36m1\u001b[0m\u001b[1;33m:\u001b[0m\u001b[1;33m]\u001b[0m\u001b[1;33m)\u001b[0m\u001b[1;33m\u001b[0m\u001b[1;33m\u001b[0m\u001b[0m\n\u001b[0;32m      6\u001b[0m     \u001b[1;32mreturn\u001b[0m \u001b[0mS\u001b[0m\u001b[1;33m[\u001b[0m\u001b[1;33m:\u001b[0m\u001b[1;36m1\u001b[0m\u001b[1;33m]\u001b[0m \u001b[1;33m+\u001b[0m \u001b[0mporavnaj\u001b[0m\u001b[1;33m(\u001b[0m\u001b[0mS\u001b[0m\u001b[1;33m[\u001b[0m\u001b[1;36m1\u001b[0m\u001b[1;33m:\u001b[0m\u001b[1;33m]\u001b[0m\u001b[1;33m)\u001b[0m\u001b[1;33m\u001b[0m\u001b[1;33m\u001b[0m\u001b[0m\n",
      "\u001b[1;31mTypeError\u001b[0m: isinstance() arg 2 must be a type or tuple of types"
     ]
    }
   ],
   "source": [
    "def poravnaj(S):\n",
    "    if S == []:\n",
    "        return S\n",
    "    if isinstance(S[0], list)pyt:\n",
    "        return poravnaj(S[0]) + poravnaj(S[1:])\n",
    "    return S[:1] + poravnaj(S[1:])\n",
    "\n",
    "\n",
    "# driver kod\n",
    "s1=[[1,2],[3,4]]\n",
    "s2=[['x','y'], ['z','p'], ['m',['a','b','c',['d','e']]]]\n",
    "print(\"Poravnana lista je: \",poravnaj(s1))\n",
    "print(\"Poravnana lista je: \",poravnaj(s2))"
   ]
  },
  {
   "cell_type": "code",
   "execution_count": null,
   "metadata": {},
   "outputs": [],
   "source": []
  }
 ],
 "metadata": {
  "kernelspec": {
   "display_name": "Python 3",
   "language": "python",
   "name": "python3"
  },
  "language_info": {
   "codemirror_mode": {
    "name": "ipython",
    "version": 3
   },
   "file_extension": ".py",
   "mimetype": "text/x-python",
   "name": "python",
   "nbconvert_exporter": "python",
   "pygments_lexer": "ipython3",
   "version": "3.8.3"
  }
 },
 "nbformat": 4,
 "nbformat_minor": 4
}
