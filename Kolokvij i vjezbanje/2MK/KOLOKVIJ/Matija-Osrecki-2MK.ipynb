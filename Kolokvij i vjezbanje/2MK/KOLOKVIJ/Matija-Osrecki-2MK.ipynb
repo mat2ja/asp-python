{
 "cells": [
  {
   "cell_type": "markdown",
   "metadata": {},
   "source": [
    "### Matija Osrečki 0036519571"
   ]
  },
  {
   "cell_type": "markdown",
   "metadata": {},
   "source": [
    "# ZADATAK 1\n",
    "\n"
   ]
  },
  {
   "cell_type": "code",
   "execution_count": 27,
   "metadata": {},
   "outputs": [
    {
     "name": "stdout",
     "output_type": "stream",
     "text": [
      "7\n"
     ]
    }
   ],
   "source": [
    "\"\"\"\n",
    "Promijenite jedan red u funkciji main tako da funkcija f \n",
    "pronađe element 10 i vrati njegov indeks.\n",
    "-------------\n",
    "\n",
    "\"\"\"\n",
    "\n",
    "def f(p, donji, gornji, e):\n",
    "    if gornji >= donji:\n",
    "        srednji = (gornji + donji) // 2\n",
    "        if p[srednji] == e:\n",
    "            return srednji\n",
    "        elif p[srednji] > e:\n",
    "            return f(p, donji, srednji - 1, e)\n",
    "        else:\n",
    "            return f(p, srednji + 1, gornji, e)\n",
    "\n",
    "    else:\n",
    "        return -1\n",
    "\n",
    "\n",
    "def main(niz):\n",
    "    result = f(sorted(niz), 0, len(niz)-1, 10)\n",
    "    print(result)\n",
    "\n",
    "\n",
    "main([7, 2, 4, 10, 1, 18, 3, 8, 15, 3])\n",
    "\n"
   ]
  },
  {
   "cell_type": "markdown",
   "metadata": {},
   "source": [
    "# ZADATAK 2\n",
    "\n"
   ]
  },
  {
   "cell_type": "markdown",
   "metadata": {},
   "source": [
    "Napišite funkciju frekv_sort koja zadani niz sortira prema frekvenciji elemenata (broju pojavljivanja). \n",
    "Na primjer, lista [4, 4, 1, 5, 4, 1, 8, 2] bila bi sortirana kao [4, 4, 4, 1, 1, 5, 8, 2]. \n",
    "Ako se neki elementi pojavljuju jednak broj puta onda oni moraju ostati u istom relativnom poretku \n",
    "kao u prethodnom primjeru (5 je ispred 8, a 8 ispred 2). NAPOMENA: Nije dozvoljeno koristiti funkciju sorted, \n",
    "neko drugo gotovo rješenje ili import naredbu!"
   ]
  },
  {
   "cell_type": "code",
   "execution_count": 11,
   "metadata": {},
   "outputs": [
    {
     "name": "stdout",
     "output_type": "stream",
     "text": [
      "[4, 4, 4, 1, 1, 5, 8, 2]\n"
     ]
    }
   ],
   "source": [
    "def frekv_sort(arr):\n",
    "    frekvencije = {}\n",
    "    for item in arr:\n",
    "        if item in frekvencije:\n",
    "            frekvencije[item] += 1\n",
    "        else:\n",
    "            frekvencije[item] = 1\n",
    "\n",
    "    for i in range(1, len(arr)):\n",
    "        current = arr[i]\n",
    "        j = i-1\n",
    "\n",
    "        while j >= 0 and frekvencije[current] > frekvencije[arr[j]]:\n",
    "            arr[j+1] = arr[j]\n",
    "            j -= 1\n",
    "        arr[j+1] = current\n",
    "\n",
    "    print(arr)\n",
    "\n",
    "\n",
    "frekv_sort([4, 4, 1, 5, 4, 1, 8, 2]) # [4, 4, 4, 1, 1, 5, 8, 2]"
   ]
  },
  {
   "cell_type": "code",
   "execution_count": null,
   "metadata": {},
   "outputs": [],
   "source": []
  },
  {
   "cell_type": "markdown",
   "metadata": {},
   "source": [
    "# ZADATAK 3\n",
    "\n"
   ]
  },
  {
   "cell_type": "markdown",
   "metadata": {},
   "source": [
    "Implementirajte metodu umetni za BinarnoStablo gdje je naznačeno u toj klasi. Umeću se elementi liste koji su uređeni parovi oblika (ključ, vrijednost). Binarno stablo pretraživanja treba se izgraditi na temelju elementa vrijednost para, a redoslijed umetanja parova treba biti takav da izgrađeno stablo bude potpuno. Na kraju treba ispisati stablo metodom ispis koju također trebate napisati gdje je naznačeno u klasi BinarnoStablo"
   ]
  },
  {
   "cell_type": "code",
   "execution_count": null,
   "metadata": {},
   "outputs": [],
   "source": []
  },
  {
   "cell_type": "markdown",
   "metadata": {},
   "source": [
    "# ZADATAK 4\n",
    "\n"
   ]
  },
  {
   "cell_type": "markdown",
   "metadata": {},
   "source": [
    "Napišite funkciju ukloni(gomila) koja će iz zadane gomile ukloniti element u korijenu i ispisati rezultirajuću gomilu. NAPOMENA: Nije dozvoljeno koristiti bilo koju biblioteku za rad s gomilom ili gotovo rješenje."
   ]
  },
  {
   "cell_type": "code",
   "execution_count": 29,
   "metadata": {},
   "outputs": [
    {
     "name": "stdout",
     "output_type": "stream",
     "text": [
      "Min heap: [5, 6, 12, 15, 9, 14, 16, 25, 7, 11, 13, 20]\n"
     ]
    },
    {
     "data": {
      "text/plain": [
       "[5, [9, [15, 16, 25], [12, 14, 13]], [6, [7, 11, None], 20]]"
      ]
     },
     "execution_count": 29,
     "metadata": {},
     "output_type": "execute_result"
    }
   ],
   "source": [
    "\n",
    "\n",
    "def ukloni(gomila):\n",
    "    gomila = gomila[1:]\n",
    "\n",
    "    flat_list = flatten(gomila)\n",
    "\n",
    "    # print(flat_list)\n",
    "    min_heap = convert_to_min_heap(flat_list, len(flat_list))\n",
    "\n",
    "    print(\"Min heap:\", min_heap)\n",
    "    # to_nested_heap(min_heap, len(min_heap))\n",
    "\n",
    "\n",
    "# nisam uspio pretvoriti u nested listu heapa\n",
    "def to_nested_heap(arr, n, nested=[]):\n",
    "    nested.append(arr[0])\n",
    "    for i in range(1, n):\n",
    "        inside = []\n",
    "        nested.append(inside)\n",
    "        if 2*i+1 < n:\n",
    "            inside.append(arr[2*i-1])\n",
    "        else:\n",
    "            nested.append(None)\n",
    "        if 2*i+2 < n:\n",
    "            inside.append(arr[2*i-2])\n",
    "        else:\n",
    "            nested.append(None)\n",
    "    print(nested)\n",
    "\n",
    "\n",
    "def convert_to_min_heap(arr, n):\n",
    "    i = n//2\n",
    "    while i >= 0:\n",
    "        min_heapify(arr, i)\n",
    "        i -= 1\n",
    "\n",
    "    return arr\n",
    "\n",
    "\n",
    "def min_heapify(arr, i):\n",
    "    n = len(arr)\n",
    "    najmanji = i\n",
    "    left = 2*i+1\n",
    "    right = 2*i+2\n",
    "\n",
    "    if left < n and arr[left] < arr[i]:\n",
    "        najmanji = left\n",
    "    if right < n and arr[right] < arr[najmanji]:\n",
    "        najmanji = right\n",
    "\n",
    "    if i != najmanji:\n",
    "        arr[i], arr[najmanji] = arr[najmanji], arr[i]\n",
    "\n",
    "\n",
    "def flatten(root):\n",
    "    flat = []\n",
    "    for elem in root:\n",
    "        if isinstance(elem, list):\n",
    "            flat += flatten(elem)\n",
    "        else:\n",
    "            flat.append(elem)\n",
    "    return flat\n",
    "\n",
    "\n",
    "ukloni([4, [5, [15, 16, 25], [9, 14, 12]], [6, [7, 11, 13], 20]])\n",
    "[5, [9, [15, 16, 25], [12, 14, 13]], [6, [7, 11, None], 20]]  # rezultat\n",
    "\n"
   ]
  },
  {
   "cell_type": "markdown",
   "metadata": {},
   "source": [
    "# ZADATAK 5"
   ]
  },
  {
   "cell_type": "markdown",
   "metadata": {},
   "source": [
    "Algoritam A treba 50n koraka, dok algoritam B treba (11/2)(n2 + n) + 1 koraka, gdje je n broj ulaznih elemenata. Od kojeg broja elemenata je algoritam A brži od algoritma B? Na primjer, ako je algoritam A brži s 20 ili više elemenata upišite >=20, a ako je brži s 15 elemenata upišite >15."
   ]
  },
  {
   "cell_type": "code",
   "execution_count": 24,
   "metadata": {},
   "outputs": [
    {
     "data": {
      "text/plain": [
       "'\\n>=9\\n'"
      ]
     },
     "execution_count": 24,
     "metadata": {},
     "output_type": "execute_result"
    }
   ],
   "source": [
    "'''\n",
    ">=9\n",
    "'''"
   ]
  },
  {
   "cell_type": "code",
   "execution_count": null,
   "metadata": {},
   "outputs": [],
   "source": []
  }
 ],
 "metadata": {
  "kernelspec": {
   "display_name": "Python 3",
   "language": "python",
   "name": "python3"
  },
  "language_info": {
   "codemirror_mode": {
    "name": "ipython",
    "version": 3
   },
   "file_extension": ".py",
   "mimetype": "text/x-python",
   "name": "python",
   "nbconvert_exporter": "python",
   "pygments_lexer": "ipython3",
   "version": "3.8.3"
  }
 },
 "nbformat": 4,
 "nbformat_minor": 2
}
