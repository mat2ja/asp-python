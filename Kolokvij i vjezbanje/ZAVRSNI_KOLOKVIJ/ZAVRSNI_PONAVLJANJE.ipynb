{
 "cells": [
  {
   "attachments": {
    "image.png": {
     "image/png": "[encoded data removed]"
    }
   },
   "cell_type": "markdown",
   "metadata": {},
   "source": [
    "ZADATAK 1. Implementirati hash tabelu korištenjem ulančanog hashiranja pomoću lista (primjer slika)\n",
    "\n",
    "![image.png](attachment:image.png)"
   ]
  },
  {
   "cell_type": "code",
   "execution_count": 3,
   "metadata": {},
   "outputs": [
    {
     "name": "stdout",
     "output_type": "stream",
     "text": [
      "[[], [], [], [], [], [], [], [], [], [], []]\n"
     ]
    }
   ],
   "source": [
    "\"\"\"\n",
    "prvo radimo incijalizaciju hash tabele koja se sastoji od više ugnježđenih lista\n",
    "Hash tabela kao lista listi: \n",
    "[[], [], [], [], [], [], [], [], [], []]\n",
    "\"\"\"\n",
    "hash_table = [[] for _ in range(11)]\n",
    "print (hash_table)\n",
    "\n"
   ]
  },
  {
   "cell_type": "code",
   "execution_count": 4,
   "metadata": {},
   "outputs": [],
   "source": [
    "\"\"\"\n",
    "Funkcija za implementaciju Hash funkcije\n",
    "\"\"\"\n",
    "def hashing_func(key):\n",
    "    return key % len(hash_table)"
   ]
  },
  {
   "cell_type": "code",
   "execution_count": 9,
   "metadata": {},
   "outputs": [],
   "source": [
    "\"\"\"\n",
    "Funkcija za ubacivanje key, value para\n",
    "\n",
    "\"\"\"\n",
    "\n",
    "def insert(hash_table, key, value):\n",
    "    hash_key = hash(key) % len(hash_table)\n",
    "    \n",
    "    key_exists = False\n",
    "    bucket = hash_table[hash_key]    \n",
    "    for i, kv in enumerate(bucket):\n",
    "        k, v = kv\n",
    "        if key == k:\n",
    "            key_exists = True \n",
    "            break\n",
    "    if key_exists:\n",
    "        bucket[i] = ((key, value))\n",
    "    else:\n",
    "        bucket.append((key, value))"
   ]
  },
  {
   "cell_type": "code",
   "execution_count": 10,
   "metadata": {},
   "outputs": [
    {
     "name": "stdout",
     "output_type": "stream",
     "text": [
      "[[(44, 'Croatia'), (88, 'Slovenia')], [], [], [(25, 'USA'), (36, 'Slovakia')], [], [], [], [], [], [(20, 'India')], [(10, 'Nepal')]]\n"
     ]
    }
   ],
   "source": [
    "insert(hash_table, 10, 'Nepal')\n",
    "insert(hash_table, 25, 'USA')\n",
    "insert(hash_table, 20, 'India')\n",
    "insert(hash_table, 44, 'Croatia')\n",
    "insert(hash_table, 88, 'Slovenia')\n",
    "insert(hash_table, 36, 'Slovakia')\n",
    "print (hash_table)\n"
   ]
  },
  {
   "cell_type": "code",
   "execution_count": 11,
   "metadata": {},
   "outputs": [],
   "source": [
    "\"\"\"\n",
    "funkcija za prteraživanje\n",
    "\n",
    "\"\"\"\n",
    "\n",
    "def search(hash_table, key):\n",
    "    hash_key = hash(key) % len(hash_table)    \n",
    "   \n",
    "    bucket = hash_table[hash_key]\n",
    "    \n",
    "    for i, kv in enumerate(bucket):\n",
    "        k, v = kv\n",
    "        if key == k:\n",
    "            return v\n",
    " \n"
   ]
  },
  {
   "cell_type": "code",
   "execution_count": 59,
   "metadata": {},
   "outputs": [
    {
     "name": "stdout",
     "output_type": "stream",
     "text": [
      "Nepal\n",
      "USA\n",
      "Slovakia\n"
     ]
    }
   ],
   "source": [
    "print (search(hash_table, 10))  \n",
    "print (search(hash_table, 25))  \n",
    "print (search(hash_table, 36))  "
   ]
  },
  {
   "cell_type": "code",
   "execution_count": 13,
   "metadata": {},
   "outputs": [],
   "source": [
    "\"\"\"\n",
    "Funkcija za brisanje iz Hash tabele\n",
    "\n",
    "\"\"\"\n",
    "\n",
    "def delete(hash_table, key):\n",
    "    hash_key = hash(key) % len(hash_table)  \n",
    "    \n",
    "    key_exists = False\n",
    "    bucket = hash_table[hash_key]\n",
    "    for i, kv in enumerate(bucket):\n",
    "        k, v = kv \n",
    "        if key == k:\n",
    "            key_exists = True \n",
    "            break\n",
    "    if key_exists:\n",
    "        del bucket[i]\n",
    "        print ('Key {} je obrisan'.format(key))\n",
    "    else:\n",
    "        print ('Key {} nijed pronađen'.format(key))"
   ]
  },
  {
   "cell_type": "code",
   "execution_count": 14,
   "metadata": {},
   "outputs": [
    {
     "name": "stdout",
     "output_type": "stream",
     "text": [
      "Key 100 nijed pronađen\n",
      "[[(44, 'Croatia'), (88, 'Slovenia')], [], [], [(25, 'USA'), (36, 'Slovakia')], [], [], [], [], [], [(20, 'India')], [(10, 'Nepal')]]\n",
      "Key 10 je obrisan\n",
      "[[(44, 'Croatia'), (88, 'Slovenia')], [], [], [(25, 'USA'), (36, 'Slovakia')], [], [], [], [], [], [(20, 'India')], []]\n"
     ]
    }
   ],
   "source": [
    "delete(hash_table, 100)\n",
    "print (hash_table)\n",
    " \n",
    "delete(hash_table, 10)\n",
    "print (hash_table)"
   ]
  },
  {
   "cell_type": "markdown",
   "metadata": {},
   "source": [
    "ZADATAK 2\n",
    "\n",
    "Linear (sekvencijalno) pretraživanje  rekurzivno\n",
    "\n",
    "za zadani index vrati value ili false , provjera indeks ne smije biti veći od duljine polja - 1\n",
    "za zadanu vrijednost vrati indeks ili false ako ga nema"
   ]
  },
  {
   "cell_type": "code",
   "execution_count": 17,
   "metadata": {},
   "outputs": [
    {
     "name": "stdout",
     "output_type": "stream",
     "text": [
      "Element 89 je prisutan na indeksu 10\n"
     ]
    }
   ],
   "source": [
    "def LinSearch( arr, left, right, indeks): \n",
    "    if right < left: \n",
    "        return -1\n",
    "    if arr[left] == indeks: \n",
    "        return left \n",
    "    if arr[right] == indeks: \n",
    "        return right \n",
    "    return LinSearch(arr, left+1, right-1, indeks) \n",
    "  \n",
    "# Driver Code  \n",
    "arr = [12, 34, 54, 2, 3, 34, 23, 12, 78, 56, 89] \n",
    "n = len(arr) \n",
    "zadani_element = 89\n",
    "vraceni_indeks = LinSearch(arr, 0, n-1, zadani_element) \n",
    "if vraceni_indeks != -1: \n",
    "    print (\"Element\", zadani_element,\"je prisutan na indeksu %d\" %(vraceni_indeks)) \n",
    "else: \n",
    "    print (\"Element %d nije u listi\" %(zadani_element) )"
   ]
  },
  {
   "cell_type": "markdown",
   "metadata": {},
   "source": [
    "ZADATAK 3.\n",
    "\n",
    "Klasa i funkcije za hashiranje u hash tabelu primjenom Linearnog isprobavanja\n",
    "\n",
    "\n"
   ]
  },
  {
   "cell_type": "code",
   "execution_count": null,
   "metadata": {},
   "outputs": [],
   "source": [
    "class HashTabelaLinProbe:\n",
    "    def __init__(self, capacity):\n",
    "        self.capacity = capacity\n",
    "        self.slots = [None] * self.capacity\n",
    "        self.count = 0\n",
    "\n",
    "    def __str__(self):\n",
    "        return str(self.slots)\n",
    "\n",
    "    def __contains__(self, item):\n",
    "        return self.search(item) != -1\n",
    "\n",
    "    def __len__(self):\n",
    "        return self.count\n",
    "\n",
    "    def hash_function(self, key):\n",
    "        #return hash(key) % self.capacity\n",
    "        return 3*key % self.capacity\n",
    "    \n",
    "    def find_slot(self, key):\n",
    "        slot = self.hash_function(key)\n",
    "        while self.slots[slot] is not None and self.slots[slot] != key:\n",
    "            slot = (slot + 1) % self.capacity\n",
    "            # infinite loop if no slots available\n",
    "        return slot\n",
    "\n",
    "    def insert(self, key):\n",
    "        slot = self.find_slot(key)\n",
    "        if self.slots[slot] != key:\n",
    "            self.slots[slot] = key\n",
    "            self.count += 1\n",
    "\n",
    "     "
   ]
  },
  {
   "cell_type": "code",
   "execution_count": null,
   "metadata": {},
   "outputs": [],
   "source": [
    "from random import randint\n",
    "\n",
    "m = HashTabelaLinProbe(13)\n",
    "keys = [2341, 4234, 2839, 430, 22, 397, 3920, 4567, 2833,44]\n",
    "n = len(keys)\n",
    "for i in keys:\n",
    "    m.insert(i)\n",
    "print(m)\n",
    "\n",
    "#[None, 4234, 2839, 2341, 430, 22, 44, None, 397, 3920, 2833, None, 4567]"
   ]
  },
  {
   "cell_type": "code",
   "execution_count": null,
   "metadata": {},
   "outputs": [],
   "source": []
  }
 ],
 "metadata": {
  "kernelspec": {
   "display_name": "Python 3",
   "language": "python",
   "name": "python3"
  },
  "language_info": {
   "codemirror_mode": {
    "name": "ipython",
    "version": 3
   },
   "file_extension": ".py",
   "mimetype": "text/x-python",
   "name": "python",
   "nbconvert_exporter": "python",
   "pygments_lexer": "ipython3",
   "version": "3.8.3"
  }
 },
 "nbformat": 4,
 "nbformat_minor": 4
}
